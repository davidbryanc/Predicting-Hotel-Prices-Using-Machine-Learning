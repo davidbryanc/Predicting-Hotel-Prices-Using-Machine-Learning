{
 "cells": [
  {
   "cell_type": "markdown",
   "id": "55d60318",
   "metadata": {
    "papermill": {
     "duration": 0.017516,
     "end_time": "2023-05-22T09:14:11.028493",
     "exception": false,
     "start_time": "2023-05-22T09:14:11.010977",
     "status": "completed"
    },
    "tags": []
   },
   "source": [
    "# Import Library"
   ]
  },
  {
   "cell_type": "code",
   "execution_count": 1,
   "id": "6c082019",
   "metadata": {
    "execution": {
     "iopub.execute_input": "2023-05-22T09:14:11.061899Z",
     "iopub.status.busy": "2023-05-22T09:14:11.061201Z",
     "iopub.status.idle": "2023-05-22T09:14:12.802199Z",
     "shell.execute_reply": "2023-05-22T09:14:12.800979Z"
    },
    "papermill": {
     "duration": 1.761586,
     "end_time": "2023-05-22T09:14:12.805305",
     "exception": false,
     "start_time": "2023-05-22T09:14:11.043719",
     "status": "completed"
    },
    "tags": []
   },
   "outputs": [
    {
     "name": "stderr",
     "output_type": "stream",
     "text": [
      "/opt/conda/lib/python3.10/site-packages/scipy/__init__.py:146: UserWarning: A NumPy version >=1.16.5 and <1.23.0 is required for this version of SciPy (detected version 1.23.5\n",
      "  warnings.warn(f\"A NumPy version >={np_minversion} and <{np_maxversion}\"\n"
     ]
    }
   ],
   "source": [
    "import numpy as np\n",
    "import pandas as pd\n",
    "\n",
    "# Untuk visualisasi\n",
    "import matplotlib.pyplot as plt\n",
    "import seaborn as sns\n",
    "\n",
    "# Untuk mengevaluasi performa model\n",
    "from sklearn.metrics import mean_absolute_error\n",
    "\n",
    "# Untuk melakukan ekstraksi data pada suatu kolom\n",
    "import re \n",
    "\n",
    "# Membagi dataset menjadi train dan test set\n",
    "from sklearn.model_selection import train_test_split\n",
    "\n",
    "import time\n",
    "import warnings\n",
    "warnings.filterwarnings('ignore')\n",
    "\n",
    "# Set rows ke 100 agar dapat melihat data lebih banyak\n",
    "pd.set_option('display.max_rows', 100)"
   ]
  },
  {
   "cell_type": "markdown",
   "id": "c0e46603",
   "metadata": {
    "papermill": {
     "duration": 0.013995,
     "end_time": "2023-05-22T09:14:12.833800",
     "exception": false,
     "start_time": "2023-05-22T09:14:12.819805",
     "status": "completed"
    },
    "tags": []
   },
   "source": [
    "# Load the Dataset"
   ]
  },
  {
   "cell_type": "code",
   "execution_count": 2,
   "id": "00b4759d",
   "metadata": {
    "execution": {
     "iopub.execute_input": "2023-05-22T09:14:12.864549Z",
     "iopub.status.busy": "2023-05-22T09:14:12.864100Z",
     "iopub.status.idle": "2023-05-22T09:14:12.921668Z",
     "shell.execute_reply": "2023-05-22T09:14:12.920593Z"
    },
    "papermill": {
     "duration": 0.07624,
     "end_time": "2023-05-22T09:14:12.924544",
     "exception": false,
     "start_time": "2023-05-22T09:14:12.848304",
     "status": "completed"
    },
    "tags": []
   },
   "outputs": [],
   "source": [
    "X = pd.read_csv(\"dataset/train_features.csv\")\n",
    "y = pd.read_csv(\"dataset/train_label.csv\")\n",
    "testData = pd.read_csv(\"dataset/test_feature.csv\")\n",
    "submission_format = pd.read_csv(\"dataset/submission_format.csv\")"
   ]
  },
  {
   "cell_type": "markdown",
   "id": "e0bd54ab",
   "metadata": {
    "papermill": {
     "duration": 0.014697,
     "end_time": "2023-05-22T09:14:12.954030",
     "exception": false,
     "start_time": "2023-05-22T09:14:12.939333",
     "status": "completed"
    },
    "tags": []
   },
   "source": [
    "### Berikut merupakan dataset yang akan digunakan untuk memprediksi harga suatu hotel, berikut penjelasan setiap kolom:\n",
    "* facilities: Kolom ini berisikan fasilitas apa saja yang terdapat pada hotel tersebut, namun dapat dilihat datanya kurang konsisten seperti tidak ada spasi, penggunaan huruf besar dan kecil juga acak, lalu terdapat fasilitas yang salah tulis seperti 'intrnet' yang seharusnya 'internet'\n",
    "* rating: Kolom ini berisikan beberapa informasi seperti berapa rata-rata penilaian dari orang, kemudian berapa jumlah orang yang melakukan penilaian\n",
    "* location: Kolom ini berisikan lokasi hotel tersebut"
   ]
  },
  {
   "cell_type": "code",
   "execution_count": 3,
   "id": "faea5331",
   "metadata": {
    "execution": {
     "iopub.execute_input": "2023-05-22T09:14:12.985188Z",
     "iopub.status.busy": "2023-05-22T09:14:12.984559Z",
     "iopub.status.idle": "2023-05-22T09:14:13.015371Z",
     "shell.execute_reply": "2023-05-22T09:14:13.014212Z"
    },
    "papermill": {
     "duration": 0.04971,
     "end_time": "2023-05-22T09:14:13.018374",
     "exception": false,
     "start_time": "2023-05-22T09:14:12.968664",
     "status": "completed"
    },
    "tags": []
   },
   "outputs": [
    {
     "data": {
      "text/html": [
       "<div>\n",
       "<style scoped>\n",
       "    .dataframe tbody tr th:only-of-type {\n",
       "        vertical-align: middle;\n",
       "    }\n",
       "\n",
       "    .dataframe tbody tr th {\n",
       "        vertical-align: top;\n",
       "    }\n",
       "\n",
       "    .dataframe thead th {\n",
       "        text-align: right;\n",
       "    }\n",
       "</style>\n",
       "<table border=\"1\" class=\"dataframe\">\n",
       "  <thead>\n",
       "    <tr style=\"text-align: right;\">\n",
       "      <th></th>\n",
       "      <th>facilities</th>\n",
       "      <th>rating</th>\n",
       "      <th>location</th>\n",
       "    </tr>\n",
       "  </thead>\n",
       "  <tbody>\n",
       "    <tr>\n",
       "      <th>0</th>\n",
       "      <td>RestaurantBARSwimmingPools</td>\n",
       "      <td>7.8 Very GoodFrom 10 reviews</td>\n",
       "      <td>Stokol</td>\n",
       "    </tr>\n",
       "    <tr>\n",
       "      <th>1</th>\n",
       "      <td>intrnetRestaurantgym</td>\n",
       "      <td>5.6 GoodFrom 4 reviews</td>\n",
       "      <td>Machlessvile</td>\n",
       "    </tr>\n",
       "    <tr>\n",
       "      <th>2</th>\n",
       "      <td>restaurantgympoolBar</td>\n",
       "      <td>7.2 Very GoodFrom 38 reviews</td>\n",
       "      <td>Wanderland</td>\n",
       "    </tr>\n",
       "    <tr>\n",
       "      <th>3</th>\n",
       "      <td>BARRestaurant</td>\n",
       "      <td>7.3 Very GoodFrom 6 reviews</td>\n",
       "      <td>Uberlandia</td>\n",
       "    </tr>\n",
       "    <tr>\n",
       "      <th>4</th>\n",
       "      <td>InternetRestaurant</td>\n",
       "      <td>7.2 Very GoodFrom 30 reviews</td>\n",
       "      <td>Stokol</td>\n",
       "    </tr>\n",
       "  </tbody>\n",
       "</table>\n",
       "</div>"
      ],
      "text/plain": [
       "                   facilities                        rating      location\n",
       "0  RestaurantBARSwimmingPools  7.8 Very GoodFrom 10 reviews        Stokol\n",
       "1        intrnetRestaurantgym        5.6 GoodFrom 4 reviews  Machlessvile\n",
       "2        restaurantgympoolBar  7.2 Very GoodFrom 38 reviews    Wanderland\n",
       "3               BARRestaurant   7.3 Very GoodFrom 6 reviews    Uberlandia\n",
       "4          InternetRestaurant  7.2 Very GoodFrom 30 reviews        Stokol"
      ]
     },
     "execution_count": 3,
     "metadata": {},
     "output_type": "execute_result"
    }
   ],
   "source": [
    "X.head()"
   ]
  },
  {
   "cell_type": "code",
   "execution_count": 4,
   "id": "bb6f8d6c",
   "metadata": {
    "execution": {
     "iopub.execute_input": "2023-05-22T09:14:13.050623Z",
     "iopub.status.busy": "2023-05-22T09:14:13.049972Z",
     "iopub.status.idle": "2023-05-22T09:14:13.059664Z",
     "shell.execute_reply": "2023-05-22T09:14:13.058809Z"
    },
    "papermill": {
     "duration": 0.02786,
     "end_time": "2023-05-22T09:14:13.061857",
     "exception": false,
     "start_time": "2023-05-22T09:14:13.033997",
     "status": "completed"
    },
    "tags": []
   },
   "outputs": [
    {
     "data": {
      "text/html": [
       "<div>\n",
       "<style scoped>\n",
       "    .dataframe tbody tr th:only-of-type {\n",
       "        vertical-align: middle;\n",
       "    }\n",
       "\n",
       "    .dataframe tbody tr th {\n",
       "        vertical-align: top;\n",
       "    }\n",
       "\n",
       "    .dataframe thead th {\n",
       "        text-align: right;\n",
       "    }\n",
       "</style>\n",
       "<table border=\"1\" class=\"dataframe\">\n",
       "  <thead>\n",
       "    <tr style=\"text-align: right;\">\n",
       "      <th></th>\n",
       "      <th>Price</th>\n",
       "    </tr>\n",
       "  </thead>\n",
       "  <tbody>\n",
       "    <tr>\n",
       "      <th>0</th>\n",
       "      <td>13,500avg/night</td>\n",
       "    </tr>\n",
       "    <tr>\n",
       "      <th>1</th>\n",
       "      <td>13,000avg/night</td>\n",
       "    </tr>\n",
       "    <tr>\n",
       "      <th>2</th>\n",
       "      <td>19,000avg/night</td>\n",
       "    </tr>\n",
       "    <tr>\n",
       "      <th>3</th>\n",
       "      <td>6,000avg/night</td>\n",
       "    </tr>\n",
       "    <tr>\n",
       "      <th>4</th>\n",
       "      <td>20,000avg/night</td>\n",
       "    </tr>\n",
       "  </tbody>\n",
       "</table>\n",
       "</div>"
      ],
      "text/plain": [
       "             Price\n",
       "0  13,500avg/night\n",
       "1  13,000avg/night\n",
       "2  19,000avg/night\n",
       "3   6,000avg/night\n",
       "4  20,000avg/night"
      ]
     },
     "execution_count": 4,
     "metadata": {},
     "output_type": "execute_result"
    }
   ],
   "source": [
    "y.head()"
   ]
  },
  {
   "cell_type": "markdown",
   "id": "84340089",
   "metadata": {
    "papermill": {
     "duration": 0.014688,
     "end_time": "2023-05-22T09:14:13.091830",
     "exception": false,
     "start_time": "2023-05-22T09:14:13.077142",
     "status": "completed"
    },
    "tags": []
   },
   "source": [
    "### Dapat dilihat dari data di atas, terdapat satuan (avg/night) dan delimiter (,) yang harus dihilangkan dan diubah tipe datanya menjadi integer agar data dapat dengan mudah diolah"
   ]
  },
  {
   "cell_type": "code",
   "execution_count": 5,
   "id": "bba1ccbe",
   "metadata": {
    "execution": {
     "iopub.execute_input": "2023-05-22T09:14:13.125045Z",
     "iopub.status.busy": "2023-05-22T09:14:13.123942Z",
     "iopub.status.idle": "2023-05-22T09:14:13.138024Z",
     "shell.execute_reply": "2023-05-22T09:14:13.136813Z"
    },
    "papermill": {
     "duration": 0.033606,
     "end_time": "2023-05-22T09:14:13.140806",
     "exception": false,
     "start_time": "2023-05-22T09:14:13.107200",
     "status": "completed"
    },
    "tags": []
   },
   "outputs": [],
   "source": [
    "y['Price'] = y['Price'].str.replace('avg/night', '')\n",
    "y['Price'] = y['Price'].str.replace(',', '')\n",
    "y['Price'] = y['Price'].astype(int)"
   ]
  },
  {
   "cell_type": "markdown",
   "id": "ddd20c24",
   "metadata": {
    "papermill": {
     "duration": 0.014684,
     "end_time": "2023-05-22T09:14:13.170433",
     "exception": false,
     "start_time": "2023-05-22T09:14:13.155749",
     "status": "completed"
    },
    "tags": []
   },
   "source": [
    "### Sebelum melakukan pembersihan data, *dataset* X yang berisikan *independent variable* dan *dataset* y yang berisikan *dependent variable* digabung, hal itu bertujuan agar ketika terdapat beberapa baris yang dihilangkan, maka jumlah baris *dataset* X dan y tetap sama"
   ]
  },
  {
   "cell_type": "code",
   "execution_count": 6,
   "id": "1aebd54b",
   "metadata": {
    "execution": {
     "iopub.execute_input": "2023-05-22T09:14:13.202571Z",
     "iopub.status.busy": "2023-05-22T09:14:13.201378Z",
     "iopub.status.idle": "2023-05-22T09:14:13.208619Z",
     "shell.execute_reply": "2023-05-22T09:14:13.207555Z"
    },
    "papermill": {
     "duration": 0.025743,
     "end_time": "2023-05-22T09:14:13.211032",
     "exception": false,
     "start_time": "2023-05-22T09:14:13.185289",
     "status": "completed"
    },
    "tags": []
   },
   "outputs": [],
   "source": [
    "new_df = pd.concat([X, y], axis=1)"
   ]
  },
  {
   "cell_type": "markdown",
   "id": "1f6f7396",
   "metadata": {
    "papermill": {
     "duration": 0.01451,
     "end_time": "2023-05-22T09:14:13.240494",
     "exception": false,
     "start_time": "2023-05-22T09:14:13.225984",
     "status": "completed"
    },
    "tags": []
   },
   "source": [
    "# Explore the Dataset"
   ]
  },
  {
   "cell_type": "markdown",
   "id": "7273fa91",
   "metadata": {
    "papermill": {
     "duration": 0.014472,
     "end_time": "2023-05-22T09:14:13.269596",
     "exception": false,
     "start_time": "2023-05-22T09:14:13.255124",
     "status": "completed"
    },
    "tags": []
   },
   "source": [
    "### *Dataset* X, terdiri dari 5 kolom fitur, 1 kolom target *(Price)* dan 3066 baris data, yang mana terdapat beberapa tipe data seperti int64 dan object. Dapat dilihat juga jumlah data yang non-null pada setiap kolomnya"
   ]
  },
  {
   "cell_type": "code",
   "execution_count": 7,
   "id": "0feaf924",
   "metadata": {
    "execution": {
     "iopub.execute_input": "2023-05-22T09:14:13.300801Z",
     "iopub.status.busy": "2023-05-22T09:14:13.300378Z",
     "iopub.status.idle": "2023-05-22T09:14:13.332682Z",
     "shell.execute_reply": "2023-05-22T09:14:13.331238Z"
    },
    "papermill": {
     "duration": 0.05071,
     "end_time": "2023-05-22T09:14:13.335073",
     "exception": false,
     "start_time": "2023-05-22T09:14:13.284363",
     "status": "completed"
    },
    "tags": []
   },
   "outputs": [
    {
     "name": "stdout",
     "output_type": "stream",
     "text": [
      "<class 'pandas.core.frame.DataFrame'>\n",
      "RangeIndex: 3066 entries, 0 to 3065\n",
      "Data columns (total 4 columns):\n",
      " #   Column      Non-Null Count  Dtype \n",
      "---  ------      --------------  ----- \n",
      " 0   facilities  2765 non-null   object\n",
      " 1   rating      2429 non-null   object\n",
      " 2   location    3066 non-null   object\n",
      " 3   Price       3066 non-null   int64 \n",
      "dtypes: int64(1), object(3)\n",
      "memory usage: 95.9+ KB\n"
     ]
    }
   ],
   "source": [
    "new_df.info()"
   ]
  },
  {
   "cell_type": "markdown",
   "id": "6c8cccec",
   "metadata": {
    "papermill": {
     "duration": 0.014558,
     "end_time": "2023-05-22T09:14:13.364643",
     "exception": false,
     "start_time": "2023-05-22T09:14:13.350085",
     "status": "completed"
    },
    "tags": []
   },
   "source": [
    "## Berikut merupakan persebaran harga hotel, dapat dilihat distribusinya jauh dari kata normal, hal itu dikarenakan terdapat *outliers* yang sebaiknya dihilangkan"
   ]
  },
  {
   "cell_type": "code",
   "execution_count": 8,
   "id": "380f01bb",
   "metadata": {
    "execution": {
     "iopub.execute_input": "2023-05-22T09:14:13.396336Z",
     "iopub.status.busy": "2023-05-22T09:14:13.395897Z",
     "iopub.status.idle": "2023-05-22T09:14:13.840497Z",
     "shell.execute_reply": "2023-05-22T09:14:13.839348Z"
    },
    "papermill": {
     "duration": 0.463463,
     "end_time": "2023-05-22T09:14:13.843016",
     "exception": false,
     "start_time": "2023-05-22T09:14:13.379553",
     "status": "completed"
    },
    "tags": []
   },
   "outputs": [
    {
     "data": {
      "text/plain": [
       "<AxesSubplot: xlabel='Price', ylabel='Density'>"
      ]
     },
     "execution_count": 8,
     "metadata": {},
     "output_type": "execute_result"
    },
    {
     "data": {
      "image/png": "[encoded data removed]",
      "text/plain": [
       "<Figure size 640x480 with 1 Axes>"
      ]
     },
     "metadata": {},
     "output_type": "display_data"
    }
   ],
   "source": [
    "sns.distplot(new_df['Price'])"
   ]
  },
  {
   "cell_type": "code",
   "execution_count": 9,
   "id": "91b19cc1",
   "metadata": {
    "execution": {
     "iopub.execute_input": "2023-05-22T09:14:13.877212Z",
     "iopub.status.busy": "2023-05-22T09:14:13.876799Z",
     "iopub.status.idle": "2023-05-22T09:14:14.134863Z",
     "shell.execute_reply": "2023-05-22T09:14:14.133616Z"
    },
    "papermill": {
     "duration": 0.279059,
     "end_time": "2023-05-22T09:14:14.137914",
     "exception": false,
     "start_time": "2023-05-22T09:14:13.858855",
     "status": "completed"
    },
    "tags": []
   },
   "outputs": [
    {
     "data": {
      "image/png": "[encoded data removed]",
      "text/plain": [
       "<Figure size 640x480 with 1 Axes>"
      ]
     },
     "metadata": {},
     "output_type": "display_data"
    }
   ],
   "source": [
    "plt.scatter(new_df['Price'], new_df['location'])\n",
    "plt.show()"
   ]
  },
  {
   "cell_type": "markdown",
   "id": "c814fc0f",
   "metadata": {
    "papermill": {
     "duration": 0.016419,
     "end_time": "2023-05-22T09:14:14.170974",
     "exception": false,
     "start_time": "2023-05-22T09:14:14.154555",
     "status": "completed"
    },
    "tags": []
   },
   "source": [
    "### Kode di bawah akan menampilkan jumlah data yang bernilai null pada setiap kolom yang ada, diurutkan dari yang terbesar hingga terkecil. Selanjutnya akan dilakukan *data preprocessing* khususnya kolom 'rating' dan 'facilities' agar data lebih mudah diolah ke dalam model"
   ]
  },
  {
   "cell_type": "code",
   "execution_count": 10,
   "id": "19ab9a3f",
   "metadata": {
    "execution": {
     "iopub.execute_input": "2023-05-22T09:14:14.206318Z",
     "iopub.status.busy": "2023-05-22T09:14:14.205937Z",
     "iopub.status.idle": "2023-05-22T09:14:14.217609Z",
     "shell.execute_reply": "2023-05-22T09:14:14.216115Z"
    },
    "papermill": {
     "duration": 0.032338,
     "end_time": "2023-05-22T09:14:14.219974",
     "exception": false,
     "start_time": "2023-05-22T09:14:14.187636",
     "status": "completed"
    },
    "tags": []
   },
   "outputs": [
    {
     "name": "stdout",
     "output_type": "stream",
     "text": [
      "rating        637\n",
      "facilities    301\n",
      "location        0\n",
      "Price           0\n",
      "dtype: int64\n"
     ]
    }
   ],
   "source": [
    "print(new_df.isna().sum().sort_values(ascending = False))"
   ]
  },
  {
   "cell_type": "markdown",
   "id": "2b61d335",
   "metadata": {
    "papermill": {
     "duration": 0.015824,
     "end_time": "2023-05-22T09:14:14.252073",
     "exception": false,
     "start_time": "2023-05-22T09:14:14.236249",
     "status": "completed"
    },
    "tags": []
   },
   "source": [
    "# Data Preprocessing"
   ]
  },
  {
   "cell_type": "code",
   "execution_count": 11,
   "id": "c279f717",
   "metadata": {
    "execution": {
     "iopub.execute_input": "2023-05-22T09:14:14.286699Z",
     "iopub.status.busy": "2023-05-22T09:14:14.286295Z",
     "iopub.status.idle": "2023-05-22T09:14:14.379831Z",
     "shell.execute_reply": "2023-05-22T09:14:14.378552Z"
    },
    "papermill": {
     "duration": 0.114102,
     "end_time": "2023-05-22T09:14:14.382467",
     "exception": false,
     "start_time": "2023-05-22T09:14:14.268365",
     "status": "completed"
    },
    "tags": []
   },
   "outputs": [
    {
     "data": {
      "text/html": [
       "<div>\n",
       "<style scoped>\n",
       "    .dataframe tbody tr th:only-of-type {\n",
       "        vertical-align: middle;\n",
       "    }\n",
       "\n",
       "    .dataframe tbody tr th {\n",
       "        vertical-align: top;\n",
       "    }\n",
       "\n",
       "    .dataframe thead th {\n",
       "        text-align: right;\n",
       "    }\n",
       "</style>\n",
       "<table border=\"1\" class=\"dataframe\">\n",
       "  <thead>\n",
       "    <tr style=\"text-align: right;\">\n",
       "      <th></th>\n",
       "      <th>Location</th>\n",
       "      <th>Price</th>\n",
       "      <th>Rating</th>\n",
       "      <th>NumReviews</th>\n",
       "      <th>Facilities</th>\n",
       "    </tr>\n",
       "  </thead>\n",
       "  <tbody>\n",
       "    <tr>\n",
       "      <th>0</th>\n",
       "      <td>Stokol</td>\n",
       "      <td>13500</td>\n",
       "      <td>7.8</td>\n",
       "      <td>10</td>\n",
       "      <td>3</td>\n",
       "    </tr>\n",
       "    <tr>\n",
       "      <th>1</th>\n",
       "      <td>Machlessvile</td>\n",
       "      <td>13000</td>\n",
       "      <td>5.6</td>\n",
       "      <td>4</td>\n",
       "      <td>3</td>\n",
       "    </tr>\n",
       "    <tr>\n",
       "      <th>2</th>\n",
       "      <td>Wanderland</td>\n",
       "      <td>19000</td>\n",
       "      <td>7.2</td>\n",
       "      <td>38</td>\n",
       "      <td>4</td>\n",
       "    </tr>\n",
       "    <tr>\n",
       "      <th>3</th>\n",
       "      <td>Uberlandia</td>\n",
       "      <td>6000</td>\n",
       "      <td>7.3</td>\n",
       "      <td>6</td>\n",
       "      <td>2</td>\n",
       "    </tr>\n",
       "    <tr>\n",
       "      <th>4</th>\n",
       "      <td>Stokol</td>\n",
       "      <td>20000</td>\n",
       "      <td>7.2</td>\n",
       "      <td>30</td>\n",
       "      <td>2</td>\n",
       "    </tr>\n",
       "    <tr>\n",
       "      <th>...</th>\n",
       "      <td>...</td>\n",
       "      <td>...</td>\n",
       "      <td>...</td>\n",
       "      <td>...</td>\n",
       "      <td>...</td>\n",
       "    </tr>\n",
       "    <tr>\n",
       "      <th>3061</th>\n",
       "      <td>Andeman</td>\n",
       "      <td>31625</td>\n",
       "      <td>0.0</td>\n",
       "      <td>3</td>\n",
       "      <td>2</td>\n",
       "    </tr>\n",
       "    <tr>\n",
       "      <th>3062</th>\n",
       "      <td>Uberlandia</td>\n",
       "      <td>30500</td>\n",
       "      <td>8.1</td>\n",
       "      <td>4</td>\n",
       "      <td>3</td>\n",
       "    </tr>\n",
       "    <tr>\n",
       "      <th>3063</th>\n",
       "      <td>Willsmian</td>\n",
       "      <td>14000</td>\n",
       "      <td>6.7</td>\n",
       "      <td>10</td>\n",
       "      <td>3</td>\n",
       "    </tr>\n",
       "    <tr>\n",
       "      <th>3064</th>\n",
       "      <td>Hallerson</td>\n",
       "      <td>8500</td>\n",
       "      <td>0.0</td>\n",
       "      <td>10</td>\n",
       "      <td>1</td>\n",
       "    </tr>\n",
       "    <tr>\n",
       "      <th>3065</th>\n",
       "      <td>Andeman</td>\n",
       "      <td>19000</td>\n",
       "      <td>7.8</td>\n",
       "      <td>26</td>\n",
       "      <td>2</td>\n",
       "    </tr>\n",
       "  </tbody>\n",
       "</table>\n",
       "<p>2767 rows × 5 columns</p>\n",
       "</div>"
      ],
      "text/plain": [
       "          Location  Price  Rating  NumReviews  Facilities\n",
       "0           Stokol  13500     7.8          10           3\n",
       "1     Machlessvile  13000     5.6           4           3\n",
       "2       Wanderland  19000     7.2          38           4\n",
       "3       Uberlandia   6000     7.3           6           2\n",
       "4           Stokol  20000     7.2          30           2\n",
       "...            ...    ...     ...         ...         ...\n",
       "3061       Andeman  31625     0.0           3           2\n",
       "3062    Uberlandia  30500     8.1           4           3\n",
       "3063     Willsmian  14000     6.7          10           3\n",
       "3064     Hallerson   8500     0.0          10           1\n",
       "3065       Andeman  19000     7.8          26           2\n",
       "\n",
       "[2767 rows x 5 columns]"
      ]
     },
     "execution_count": 11,
     "metadata": {},
     "output_type": "execute_result"
    }
   ],
   "source": [
    "# Mengambil angka terdepan pada kolom rating dengan bantuan regex\n",
    "new_df['Rating'] = new_df['rating'].str.extract(r'(\\d+\\.\\d)')\n",
    "\n",
    "#  Mengambil angka pada kolom rating dengan bantuan regex\n",
    "new_df['NumReviews'] = new_df['rating'].str.extract(r'(\\d+) review')\n",
    "\n",
    "# Mengisi nilai yang kosong pada kolom fasilitas dengan 'Unknown' agar dapat diolah\n",
    "new_df['facilities'].fillna('Unknown', inplace=True)\n",
    "    \n",
    "# Menghitung jumlah fasilitas yang ada\n",
    "new_df['Restaurant'] = new_df['facilities'].str.lower().str.contains('res').astype(int)\n",
    "new_df['Internet'] = new_df['facilities'].str.lower().str.contains('net').astype(int)\n",
    "new_df['Bar'] = new_df['facilities'].str.lower().str.contains('bar').astype(int)\n",
    "new_df['Pool'] = new_df['facilities'].str.lower().str.contains('pool').astype(int)\n",
    "new_df['Gym'] = new_df['facilities'].str.lower().str.contains('gym').astype(int)\n",
    "new_df['Facilities'] = new_df[['Restaurant', 'Internet', 'Bar', 'Pool', 'Gym']].sum(axis=1)\n",
    "\n",
    "# Drop kolom yang tidak terpakai\n",
    "fix_df = new_df.drop(['facilities', 'rating', 'Restaurant', 'Internet', 'Bar', 'Pool', 'Gym'], axis=1)\n",
    "\n",
    "# Mengubah tipe data serta melakukan rename pada kolom agar penamaannya konsisten\n",
    "fix_df['Rating'] = fix_df['Rating'].astype('Float64')\n",
    "fix_df['NumReviews'] = fix_df['NumReviews'].astype('Int64')\n",
    "fix_df['location'] = fix_df['location'].astype('category')\n",
    "fix_df = fix_df.rename(columns={'location': 'Location'})\n",
    "\n",
    "# Remove outlier\n",
    "fix_df = fix_df.drop(fix_df[fix_df['NumReviews'] > 50].index)\n",
    "fix_df = fix_df.drop(fix_df[fix_df['Price'] > 50000].index)\n",
    "\n",
    "# Fill or Drop Null value\n",
    "fix_df['Rating'].fillna(0.0, inplace=True)\n",
    "fix_df = fix_df.interpolate(method ='pad', limit_direction ='forward')\n",
    "fix_df = fix_df.dropna()\n",
    "\n",
    "fix_df"
   ]
  },
  {
   "cell_type": "markdown",
   "id": "f3fe87e1",
   "metadata": {
    "papermill": {
     "duration": 0.016991,
     "end_time": "2023-05-22T09:14:14.416918",
     "exception": false,
     "start_time": "2023-05-22T09:14:14.399927",
     "status": "completed"
    },
    "tags": []
   },
   "source": [
    "### Di bawah merupakan jumlah fasilitas pada setiap hotel yang ada, dapat dilihat bahwa jumlah fasilitas terdistribusi normal"
   ]
  },
  {
   "cell_type": "code",
   "execution_count": 12,
   "id": "1b4fe651",
   "metadata": {
    "execution": {
     "iopub.execute_input": "2023-05-22T09:14:14.453143Z",
     "iopub.status.busy": "2023-05-22T09:14:14.452738Z",
     "iopub.status.idle": "2023-05-22T09:14:14.776529Z",
     "shell.execute_reply": "2023-05-22T09:14:14.775104Z"
    },
    "papermill": {
     "duration": 0.344706,
     "end_time": "2023-05-22T09:14:14.779255",
     "exception": false,
     "start_time": "2023-05-22T09:14:14.434549",
     "status": "completed"
    },
    "tags": []
   },
   "outputs": [
    {
     "data": {
      "text/plain": [
       "<AxesSubplot: title={'center': 'Jumlah Fasilitas pada Hotel'}, ylabel='Facilities'>"
      ]
     },
     "execution_count": 12,
     "metadata": {},
     "output_type": "execute_result"
    },
    {
     "data": {
      "image/png": "[encoded data removed]",
      "text/plain": [
       "<Figure size 640x480 with 1 Axes>"
      ]
     },
     "metadata": {},
     "output_type": "display_data"
    }
   ],
   "source": [
    "fix_df.value_counts('Facilities').sort_index().plot(kind='barh', title='Jumlah Fasilitas pada Hotel')"
   ]
  },
  {
   "cell_type": "code",
   "execution_count": 13,
   "id": "a6c7ff2b",
   "metadata": {
    "execution": {
     "iopub.execute_input": "2023-05-22T09:14:14.818237Z",
     "iopub.status.busy": "2023-05-22T09:14:14.817812Z",
     "iopub.status.idle": "2023-05-22T09:14:14.844942Z",
     "shell.execute_reply": "2023-05-22T09:14:14.843813Z"
    },
    "papermill": {
     "duration": 0.048791,
     "end_time": "2023-05-22T09:14:14.847453",
     "exception": false,
     "start_time": "2023-05-22T09:14:14.798662",
     "status": "completed"
    },
    "tags": []
   },
   "outputs": [
    {
     "data": {
      "text/html": [
       "<div>\n",
       "<style scoped>\n",
       "    .dataframe tbody tr th:only-of-type {\n",
       "        vertical-align: middle;\n",
       "    }\n",
       "\n",
       "    .dataframe tbody tr th {\n",
       "        vertical-align: top;\n",
       "    }\n",
       "\n",
       "    .dataframe thead th {\n",
       "        text-align: right;\n",
       "    }\n",
       "</style>\n",
       "<table border=\"1\" class=\"dataframe\">\n",
       "  <thead>\n",
       "    <tr style=\"text-align: right;\">\n",
       "      <th></th>\n",
       "      <th>Price</th>\n",
       "      <th>Rating</th>\n",
       "      <th>NumReviews</th>\n",
       "      <th>Facilities</th>\n",
       "    </tr>\n",
       "  </thead>\n",
       "  <tbody>\n",
       "    <tr>\n",
       "      <th>count</th>\n",
       "      <td>2767.000000</td>\n",
       "      <td>2767.0</td>\n",
       "      <td>2767.0</td>\n",
       "      <td>2767.000000</td>\n",
       "    </tr>\n",
       "    <tr>\n",
       "      <th>mean</th>\n",
       "      <td>15102.120708</td>\n",
       "      <td>5.607915</td>\n",
       "      <td>12.111312</td>\n",
       "      <td>2.383448</td>\n",
       "    </tr>\n",
       "    <tr>\n",
       "      <th>std</th>\n",
       "      <td>10677.895439</td>\n",
       "      <td>3.259273</td>\n",
       "      <td>12.60596</td>\n",
       "      <td>1.365329</td>\n",
       "    </tr>\n",
       "    <tr>\n",
       "      <th>min</th>\n",
       "      <td>1500.000000</td>\n",
       "      <td>0.0</td>\n",
       "      <td>1.0</td>\n",
       "      <td>0.000000</td>\n",
       "    </tr>\n",
       "    <tr>\n",
       "      <th>25%</th>\n",
       "      <td>7000.000000</td>\n",
       "      <td>4.2</td>\n",
       "      <td>3.0</td>\n",
       "      <td>2.000000</td>\n",
       "    </tr>\n",
       "    <tr>\n",
       "      <th>50%</th>\n",
       "      <td>12800.000000</td>\n",
       "      <td>6.9</td>\n",
       "      <td>7.0</td>\n",
       "      <td>2.000000</td>\n",
       "    </tr>\n",
       "    <tr>\n",
       "      <th>75%</th>\n",
       "      <td>20000.000000</td>\n",
       "      <td>7.9</td>\n",
       "      <td>17.0</td>\n",
       "      <td>3.000000</td>\n",
       "    </tr>\n",
       "    <tr>\n",
       "      <th>max</th>\n",
       "      <td>50000.000000</td>\n",
       "      <td>10.0</td>\n",
       "      <td>50.0</td>\n",
       "      <td>5.000000</td>\n",
       "    </tr>\n",
       "  </tbody>\n",
       "</table>\n",
       "</div>"
      ],
      "text/plain": [
       "              Price    Rating  NumReviews   Facilities\n",
       "count   2767.000000    2767.0      2767.0  2767.000000\n",
       "mean   15102.120708  5.607915   12.111312     2.383448\n",
       "std    10677.895439  3.259273    12.60596     1.365329\n",
       "min     1500.000000       0.0         1.0     0.000000\n",
       "25%     7000.000000       4.2         3.0     2.000000\n",
       "50%    12800.000000       6.9         7.0     2.000000\n",
       "75%    20000.000000       7.9        17.0     3.000000\n",
       "max    50000.000000      10.0        50.0     5.000000"
      ]
     },
     "execution_count": 13,
     "metadata": {},
     "output_type": "execute_result"
    }
   ],
   "source": [
    "fix_df.describe()"
   ]
  },
  {
   "cell_type": "code",
   "execution_count": 14,
   "id": "bde79082",
   "metadata": {
    "execution": {
     "iopub.execute_input": "2023-05-22T09:14:14.888187Z",
     "iopub.status.busy": "2023-05-22T09:14:14.887393Z",
     "iopub.status.idle": "2023-05-22T09:14:15.209638Z",
     "shell.execute_reply": "2023-05-22T09:14:15.208501Z"
    },
    "papermill": {
     "duration": 0.345073,
     "end_time": "2023-05-22T09:14:15.213506",
     "exception": false,
     "start_time": "2023-05-22T09:14:14.868433",
     "status": "completed"
    },
    "tags": []
   },
   "outputs": [
    {
     "data": {
      "image/png": "[encoded data removed]",
      "text/plain": [
       "<Figure size 640x480 with 1 Axes>"
      ]
     },
     "metadata": {},
     "output_type": "display_data"
    }
   ],
   "source": [
    "sns.distplot(fix_df['NumReviews']);"
   ]
  },
  {
   "cell_type": "code",
   "execution_count": 15,
   "id": "40299ce0",
   "metadata": {
    "execution": {
     "iopub.execute_input": "2023-05-22T09:14:15.251660Z",
     "iopub.status.busy": "2023-05-22T09:14:15.251234Z",
     "iopub.status.idle": "2023-05-22T09:14:15.578218Z",
     "shell.execute_reply": "2023-05-22T09:14:15.576809Z"
    },
    "papermill": {
     "duration": 0.348726,
     "end_time": "2023-05-22T09:14:15.580791",
     "exception": false,
     "start_time": "2023-05-22T09:14:15.232065",
     "status": "completed"
    },
    "tags": []
   },
   "outputs": [
    {
     "data": {
      "text/plain": [
       "<AxesSubplot: xlabel='Price', ylabel='Density'>"
      ]
     },
     "execution_count": 15,
     "metadata": {},
     "output_type": "execute_result"
    },
    {
     "data": {
      "image/png": "[encoded data removed]",
      "text/plain": [
       "<Figure size 640x480 with 1 Axes>"
      ]
     },
     "metadata": {},
     "output_type": "display_data"
    }
   ],
   "source": [
    "sns.distplot(fix_df['Price'])"
   ]
  },
  {
   "cell_type": "code",
   "execution_count": 16,
   "id": "5d05199e",
   "metadata": {
    "execution": {
     "iopub.execute_input": "2023-05-22T09:14:15.620297Z",
     "iopub.status.busy": "2023-05-22T09:14:15.619515Z",
     "iopub.status.idle": "2023-05-22T09:14:15.858668Z",
     "shell.execute_reply": "2023-05-22T09:14:15.857313Z"
    },
    "papermill": {
     "duration": 0.262127,
     "end_time": "2023-05-22T09:14:15.861463",
     "exception": false,
     "start_time": "2023-05-22T09:14:15.599336",
     "status": "completed"
    },
    "tags": []
   },
   "outputs": [
    {
     "data": {
      "image/png": "[encoded data removed]",
      "text/plain": [
       "<Figure size 640x480 with 1 Axes>"
      ]
     },
     "metadata": {},
     "output_type": "display_data"
    }
   ],
   "source": [
    "fix_df.plot.scatter(x='Price', y='Facilities')\n",
    "# Display the plot\n",
    "plt.show()"
   ]
  },
  {
   "cell_type": "code",
   "execution_count": 17,
   "id": "0e31ea1e",
   "metadata": {
    "execution": {
     "iopub.execute_input": "2023-05-22T09:14:15.903031Z",
     "iopub.status.busy": "2023-05-22T09:14:15.902328Z",
     "iopub.status.idle": "2023-05-22T09:14:16.140880Z",
     "shell.execute_reply": "2023-05-22T09:14:16.139753Z"
    },
    "papermill": {
     "duration": 0.263075,
     "end_time": "2023-05-22T09:14:16.143698",
     "exception": false,
     "start_time": "2023-05-22T09:14:15.880623",
     "status": "completed"
    },
    "tags": []
   },
   "outputs": [
    {
     "data": {
      "image/png": "[encoded data removed]",
      "text/plain": [
       "<Figure size 640x480 with 1 Axes>"
      ]
     },
     "metadata": {},
     "output_type": "display_data"
    }
   ],
   "source": [
    "fix_df.plot.scatter(x='Rating', y='NumReviews')\n",
    "# Display the plot\n",
    "plt.show()"
   ]
  },
  {
   "cell_type": "code",
   "execution_count": 18,
   "id": "f739b568",
   "metadata": {
    "execution": {
     "iopub.execute_input": "2023-05-22T09:14:16.187950Z",
     "iopub.status.busy": "2023-05-22T09:14:16.187519Z",
     "iopub.status.idle": "2023-05-22T09:14:16.423665Z",
     "shell.execute_reply": "2023-05-22T09:14:16.422785Z"
    },
    "papermill": {
     "duration": 0.261673,
     "end_time": "2023-05-22T09:14:16.425957",
     "exception": false,
     "start_time": "2023-05-22T09:14:16.164284",
     "status": "completed"
    },
    "tags": []
   },
   "outputs": [
    {
     "data": {
      "image/png": "[encoded data removed]",
      "text/plain": [
       "<Figure size 640x480 with 1 Axes>"
      ]
     },
     "metadata": {},
     "output_type": "display_data"
    }
   ],
   "source": [
    "fix_df.plot.scatter(x='Rating', y='Price')\n",
    "# Display the plot\n",
    "plt.show()"
   ]
  },
  {
   "cell_type": "code",
   "execution_count": 19,
   "id": "5f8b2b59",
   "metadata": {
    "execution": {
     "iopub.execute_input": "2023-05-22T09:14:16.469115Z",
     "iopub.status.busy": "2023-05-22T09:14:16.468001Z",
     "iopub.status.idle": "2023-05-22T09:14:16.814876Z",
     "shell.execute_reply": "2023-05-22T09:14:16.813804Z"
    },
    "papermill": {
     "duration": 0.371497,
     "end_time": "2023-05-22T09:14:16.817657",
     "exception": false,
     "start_time": "2023-05-22T09:14:16.446160",
     "status": "completed"
    },
    "tags": []
   },
   "outputs": [
    {
     "data": {
      "image/png": "[encoded data removed]",
      "text/plain": [
       "<Figure size 800x600 with 2 Axes>"
      ]
     },
     "metadata": {},
     "output_type": "display_data"
    }
   ],
   "source": [
    "df = pd.DataFrame(fix_df)\n",
    "\n",
    "# Menghitung matriks korelasi\n",
    "corr_matrix = df.corr()\n",
    "\n",
    "# Membuat plot heatmap \n",
    "plt.figure(figsize=(8, 6))\n",
    "sns.heatmap(corr_matrix, annot=True, cmap='coolwarm')\n",
    "\n",
    "plt.title('Correlation Matrix')\n",
    "plt.show()"
   ]
  },
  {
   "cell_type": "markdown",
   "id": "6a794850",
   "metadata": {
    "papermill": {
     "duration": 0.020529,
     "end_time": "2023-05-22T09:14:16.859104",
     "exception": false,
     "start_time": "2023-05-22T09:14:16.838575",
     "status": "completed"
    },
    "tags": []
   },
   "source": [
    "### Beberapa kode di atas merupakan visualisasi data setelah dilakukan *data preprocessing*, dapat dilihat bahwa Rating, NumReviews, dan Facilities memiliki korelasi terhadap harga, hal itu dapat dilihat korelasi ketiganya dnegna harga > 0.5"
   ]
  },
  {
   "cell_type": "code",
   "execution_count": 20,
   "id": "5b26589e",
   "metadata": {
    "execution": {
     "iopub.execute_input": "2023-05-22T09:14:16.903400Z",
     "iopub.status.busy": "2023-05-22T09:14:16.903002Z",
     "iopub.status.idle": "2023-05-22T09:14:16.922634Z",
     "shell.execute_reply": "2023-05-22T09:14:16.921455Z"
    },
    "papermill": {
     "duration": 0.044644,
     "end_time": "2023-05-22T09:14:16.925268",
     "exception": false,
     "start_time": "2023-05-22T09:14:16.880624",
     "status": "completed"
    },
    "tags": []
   },
   "outputs": [
    {
     "data": {
      "text/html": [
       "<div>\n",
       "<style scoped>\n",
       "    .dataframe tbody tr th:only-of-type {\n",
       "        vertical-align: middle;\n",
       "    }\n",
       "\n",
       "    .dataframe tbody tr th {\n",
       "        vertical-align: top;\n",
       "    }\n",
       "\n",
       "    .dataframe thead th {\n",
       "        text-align: right;\n",
       "    }\n",
       "</style>\n",
       "<table border=\"1\" class=\"dataframe\">\n",
       "  <thead>\n",
       "    <tr style=\"text-align: right;\">\n",
       "      <th></th>\n",
       "      <th>Location</th>\n",
       "      <th>Rating</th>\n",
       "      <th>NumReviews</th>\n",
       "      <th>Facilities</th>\n",
       "    </tr>\n",
       "  </thead>\n",
       "  <tbody>\n",
       "    <tr>\n",
       "      <th>0</th>\n",
       "      <td>Stokol</td>\n",
       "      <td>7.8</td>\n",
       "      <td>10</td>\n",
       "      <td>3</td>\n",
       "    </tr>\n",
       "    <tr>\n",
       "      <th>1</th>\n",
       "      <td>Machlessvile</td>\n",
       "      <td>5.6</td>\n",
       "      <td>4</td>\n",
       "      <td>3</td>\n",
       "    </tr>\n",
       "    <tr>\n",
       "      <th>2</th>\n",
       "      <td>Wanderland</td>\n",
       "      <td>7.2</td>\n",
       "      <td>38</td>\n",
       "      <td>4</td>\n",
       "    </tr>\n",
       "    <tr>\n",
       "      <th>3</th>\n",
       "      <td>Uberlandia</td>\n",
       "      <td>7.3</td>\n",
       "      <td>6</td>\n",
       "      <td>2</td>\n",
       "    </tr>\n",
       "    <tr>\n",
       "      <th>4</th>\n",
       "      <td>Stokol</td>\n",
       "      <td>7.2</td>\n",
       "      <td>30</td>\n",
       "      <td>2</td>\n",
       "    </tr>\n",
       "    <tr>\n",
       "      <th>...</th>\n",
       "      <td>...</td>\n",
       "      <td>...</td>\n",
       "      <td>...</td>\n",
       "      <td>...</td>\n",
       "    </tr>\n",
       "    <tr>\n",
       "      <th>3061</th>\n",
       "      <td>Andeman</td>\n",
       "      <td>0.0</td>\n",
       "      <td>3</td>\n",
       "      <td>2</td>\n",
       "    </tr>\n",
       "    <tr>\n",
       "      <th>3062</th>\n",
       "      <td>Uberlandia</td>\n",
       "      <td>8.1</td>\n",
       "      <td>4</td>\n",
       "      <td>3</td>\n",
       "    </tr>\n",
       "    <tr>\n",
       "      <th>3063</th>\n",
       "      <td>Willsmian</td>\n",
       "      <td>6.7</td>\n",
       "      <td>10</td>\n",
       "      <td>3</td>\n",
       "    </tr>\n",
       "    <tr>\n",
       "      <th>3064</th>\n",
       "      <td>Hallerson</td>\n",
       "      <td>0.0</td>\n",
       "      <td>10</td>\n",
       "      <td>1</td>\n",
       "    </tr>\n",
       "    <tr>\n",
       "      <th>3065</th>\n",
       "      <td>Andeman</td>\n",
       "      <td>7.8</td>\n",
       "      <td>26</td>\n",
       "      <td>2</td>\n",
       "    </tr>\n",
       "  </tbody>\n",
       "</table>\n",
       "<p>2767 rows × 4 columns</p>\n",
       "</div>"
      ],
      "text/plain": [
       "          Location  Rating  NumReviews  Facilities\n",
       "0           Stokol     7.8          10           3\n",
       "1     Machlessvile     5.6           4           3\n",
       "2       Wanderland     7.2          38           4\n",
       "3       Uberlandia     7.3           6           2\n",
       "4           Stokol     7.2          30           2\n",
       "...            ...     ...         ...         ...\n",
       "3061       Andeman     0.0           3           2\n",
       "3062    Uberlandia     8.1           4           3\n",
       "3063     Willsmian     6.7          10           3\n",
       "3064     Hallerson     0.0          10           1\n",
       "3065       Andeman     7.8          26           2\n",
       "\n",
       "[2767 rows x 4 columns]"
      ]
     },
     "execution_count": 20,
     "metadata": {},
     "output_type": "execute_result"
    }
   ],
   "source": [
    "col = fix_df.pop('Price') \n",
    "y = pd.DataFrame(col)\n",
    "X = fix_df.copy()\n",
    "X"
   ]
  },
  {
   "cell_type": "markdown",
   "id": "b313c51b",
   "metadata": {
    "papermill": {
     "duration": 0.020793,
     "end_time": "2023-05-22T09:14:16.967370",
     "exception": false,
     "start_time": "2023-05-22T09:14:16.946577",
     "status": "completed"
    },
    "tags": []
   },
   "source": [
    "### Kode di atas akan memisahkan 'Price' kembali pada variabel 'y' dan sisanya akan disimpan pada variabel 'X'"
   ]
  },
  {
   "cell_type": "markdown",
   "id": "4a9cc388",
   "metadata": {
    "papermill": {
     "duration": 0.022517,
     "end_time": "2023-05-22T09:14:17.011460",
     "exception": false,
     "start_time": "2023-05-22T09:14:16.988943",
     "status": "completed"
    },
    "tags": []
   },
   "source": [
    "# Data Preprocessing on Test Data"
   ]
  },
  {
   "cell_type": "code",
   "execution_count": 21,
   "id": "38883202",
   "metadata": {
    "execution": {
     "iopub.execute_input": "2023-05-22T09:14:17.057157Z",
     "iopub.status.busy": "2023-05-22T09:14:17.056655Z",
     "iopub.status.idle": "2023-05-22T09:14:17.072487Z",
     "shell.execute_reply": "2023-05-22T09:14:17.071239Z"
    },
    "papermill": {
     "duration": 0.040971,
     "end_time": "2023-05-22T09:14:17.074962",
     "exception": false,
     "start_time": "2023-05-22T09:14:17.033991",
     "status": "completed"
    },
    "tags": []
   },
   "outputs": [
    {
     "data": {
      "text/html": [
       "<div>\n",
       "<style scoped>\n",
       "    .dataframe tbody tr th:only-of-type {\n",
       "        vertical-align: middle;\n",
       "    }\n",
       "\n",
       "    .dataframe tbody tr th {\n",
       "        vertical-align: top;\n",
       "    }\n",
       "\n",
       "    .dataframe thead th {\n",
       "        text-align: right;\n",
       "    }\n",
       "</style>\n",
       "<table border=\"1\" class=\"dataframe\">\n",
       "  <thead>\n",
       "    <tr style=\"text-align: right;\">\n",
       "      <th></th>\n",
       "      <th>ID</th>\n",
       "      <th>facilities</th>\n",
       "      <th>rating</th>\n",
       "      <th>location</th>\n",
       "    </tr>\n",
       "  </thead>\n",
       "  <tbody>\n",
       "    <tr>\n",
       "      <th>0</th>\n",
       "      <td>0</td>\n",
       "      <td>GymrestaurantbarInternetSwimmingPools</td>\n",
       "      <td>8.0 ExcellentFrom 1 reviews</td>\n",
       "      <td>Stokol</td>\n",
       "    </tr>\n",
       "    <tr>\n",
       "      <th>1</th>\n",
       "      <td>1</td>\n",
       "      <td>Poolrestaurantgyminternetbar</td>\n",
       "      <td>7.4 Very GoodFrom 22 reviews</td>\n",
       "      <td>Hallerson</td>\n",
       "    </tr>\n",
       "    <tr>\n",
       "      <th>2</th>\n",
       "      <td>2</td>\n",
       "      <td>BARSwimmingPoolsInternetgym</td>\n",
       "      <td>0.0 FairFrom 4 reviews</td>\n",
       "      <td>Hallerson</td>\n",
       "    </tr>\n",
       "    <tr>\n",
       "      <th>3</th>\n",
       "      <td>3</td>\n",
       "      <td>gymSwimmingPoolsBARintrnetRestaurant</td>\n",
       "      <td>6.8 Very GoodFrom 13 reviews</td>\n",
       "      <td>Andeman</td>\n",
       "    </tr>\n",
       "    <tr>\n",
       "      <th>4</th>\n",
       "      <td>4</td>\n",
       "      <td>gymRestaurantpoolbarintrnet</td>\n",
       "      <td>0.0 FairFrom 9 reviews</td>\n",
       "      <td>Hallerson</td>\n",
       "    </tr>\n",
       "    <tr>\n",
       "      <th>...</th>\n",
       "      <td>...</td>\n",
       "      <td>...</td>\n",
       "      <td>...</td>\n",
       "      <td>...</td>\n",
       "    </tr>\n",
       "    <tr>\n",
       "      <th>762</th>\n",
       "      <td>762</td>\n",
       "      <td>BARPoolRestaurantGym</td>\n",
       "      <td>8.1 ExcellentFrom 9 reviews</td>\n",
       "      <td>Andeman</td>\n",
       "    </tr>\n",
       "    <tr>\n",
       "      <th>763</th>\n",
       "      <td>763</td>\n",
       "      <td>intrnetGympoolrestaurantBar</td>\n",
       "      <td>8.0 ExcellentFrom 4 reviews</td>\n",
       "      <td>Wanderland</td>\n",
       "    </tr>\n",
       "    <tr>\n",
       "      <th>764</th>\n",
       "      <td>764</td>\n",
       "      <td>RestaurantgymintrnetBARswimmingpools</td>\n",
       "      <td>7.4 Very GoodFrom 19 reviews</td>\n",
       "      <td>Andeman</td>\n",
       "    </tr>\n",
       "    <tr>\n",
       "      <th>765</th>\n",
       "      <td>765</td>\n",
       "      <td>gymInternetBarpoolRestaurant</td>\n",
       "      <td>9.0 ExcellentFrom 17 reviews</td>\n",
       "      <td>Hallerson</td>\n",
       "    </tr>\n",
       "    <tr>\n",
       "      <th>766</th>\n",
       "      <td>766</td>\n",
       "      <td>RestaurantGyminternetpoolBAR</td>\n",
       "      <td>6.9 Very GoodFrom 21 reviews</td>\n",
       "      <td>Uberlandia</td>\n",
       "    </tr>\n",
       "  </tbody>\n",
       "</table>\n",
       "<p>767 rows × 4 columns</p>\n",
       "</div>"
      ],
      "text/plain": [
       "      ID                             facilities                        rating  \\\n",
       "0      0  GymrestaurantbarInternetSwimmingPools   8.0 ExcellentFrom 1 reviews   \n",
       "1      1           Poolrestaurantgyminternetbar  7.4 Very GoodFrom 22 reviews   \n",
       "2      2            BARSwimmingPoolsInternetgym        0.0 FairFrom 4 reviews   \n",
       "3      3   gymSwimmingPoolsBARintrnetRestaurant  6.8 Very GoodFrom 13 reviews   \n",
       "4      4            gymRestaurantpoolbarintrnet        0.0 FairFrom 9 reviews   \n",
       "..   ...                                    ...                           ...   \n",
       "762  762                   BARPoolRestaurantGym   8.1 ExcellentFrom 9 reviews   \n",
       "763  763            intrnetGympoolrestaurantBar   8.0 ExcellentFrom 4 reviews   \n",
       "764  764   RestaurantgymintrnetBARswimmingpools  7.4 Very GoodFrom 19 reviews   \n",
       "765  765           gymInternetBarpoolRestaurant  9.0 ExcellentFrom 17 reviews   \n",
       "766  766           RestaurantGyminternetpoolBAR  6.9 Very GoodFrom 21 reviews   \n",
       "\n",
       "       location  \n",
       "0        Stokol  \n",
       "1     Hallerson  \n",
       "2     Hallerson  \n",
       "3       Andeman  \n",
       "4     Hallerson  \n",
       "..          ...  \n",
       "762     Andeman  \n",
       "763  Wanderland  \n",
       "764     Andeman  \n",
       "765   Hallerson  \n",
       "766  Uberlandia  \n",
       "\n",
       "[767 rows x 4 columns]"
      ]
     },
     "execution_count": 21,
     "metadata": {},
     "output_type": "execute_result"
    }
   ],
   "source": [
    "testData"
   ]
  },
  {
   "cell_type": "code",
   "execution_count": 22,
   "id": "d5e1a8d1",
   "metadata": {
    "execution": {
     "iopub.execute_input": "2023-05-22T09:14:17.119899Z",
     "iopub.status.busy": "2023-05-22T09:14:17.119213Z",
     "iopub.status.idle": "2023-05-22T09:14:17.154578Z",
     "shell.execute_reply": "2023-05-22T09:14:17.153646Z"
    },
    "papermill": {
     "duration": 0.060595,
     "end_time": "2023-05-22T09:14:17.157040",
     "exception": false,
     "start_time": "2023-05-22T09:14:17.096445",
     "status": "completed"
    },
    "tags": []
   },
   "outputs": [],
   "source": [
    "# Mengambil angka terdepan pada kolom rating dengan bantuan regex\n",
    "testData['Rating'] = testData['rating'].str.extract(r'(\\d+\\.\\d)')\n",
    "\n",
    "#  Mengambil angka pada kolom rating dengan bantuan regex\n",
    "testData['NumReviews'] = testData['rating'].str.extract(r'(\\d+) review')\n",
    "    \n",
    "# Menghitung jumlah fasilitas yang ada\n",
    "testData['Restaurant'] = testData['facilities'].str.lower().str.contains('res').astype(int)\n",
    "testData['Internet'] = testData['facilities'].str.lower().str.contains('net').astype(int)\n",
    "testData['Bar'] = testData['facilities'].str.lower().str.contains('bar').astype(int)\n",
    "testData['Pool'] = testData['facilities'].str.lower().str.contains('pool').astype(int)\n",
    "testData['Gym'] = testData['facilities'].str.lower().str.contains('gym').astype(int)\n",
    "testData['Facilities'] = testData[['Restaurant', 'Internet', 'Bar', 'Pool', 'Gym']].sum(axis=1)\n",
    "\n",
    "# Drop kolom yang tidak terpakai\n",
    "testData = testData.drop(['facilities', 'rating', 'ID', 'facilities', 'Restaurant', 'Internet', 'Bar', 'Pool', 'Gym'], axis=1)\n",
    "\n",
    "# Mengubah tipe data serta melakukan rename pada kolom agar penamaannya konsisten\n",
    "testData['Rating'] = testData['Rating'].astype('Float64')\n",
    "testData['NumReviews'] = testData['NumReviews'].astype('Int64')\n",
    "testData['location'] = testData['location'].astype('category')\n",
    "testData = testData.rename(columns={'location': 'Location'})"
   ]
  },
  {
   "cell_type": "code",
   "execution_count": 23,
   "id": "1cdf2af8",
   "metadata": {
    "execution": {
     "iopub.execute_input": "2023-05-22T09:14:17.201626Z",
     "iopub.status.busy": "2023-05-22T09:14:17.201218Z",
     "iopub.status.idle": "2023-05-22T09:14:17.221855Z",
     "shell.execute_reply": "2023-05-22T09:14:17.221067Z"
    },
    "papermill": {
     "duration": 0.045603,
     "end_time": "2023-05-22T09:14:17.223991",
     "exception": false,
     "start_time": "2023-05-22T09:14:17.178388",
     "status": "completed"
    },
    "tags": []
   },
   "outputs": [
    {
     "data": {
      "text/html": [
       "<div>\n",
       "<style scoped>\n",
       "    .dataframe tbody tr th:only-of-type {\n",
       "        vertical-align: middle;\n",
       "    }\n",
       "\n",
       "    .dataframe tbody tr th {\n",
       "        vertical-align: top;\n",
       "    }\n",
       "\n",
       "    .dataframe thead th {\n",
       "        text-align: right;\n",
       "    }\n",
       "</style>\n",
       "<table border=\"1\" class=\"dataframe\">\n",
       "  <thead>\n",
       "    <tr style=\"text-align: right;\">\n",
       "      <th></th>\n",
       "      <th>Rating</th>\n",
       "      <th>NumReviews</th>\n",
       "      <th>Facilities</th>\n",
       "    </tr>\n",
       "  </thead>\n",
       "  <tbody>\n",
       "    <tr>\n",
       "      <th>count</th>\n",
       "      <td>767.0</td>\n",
       "      <td>767.0</td>\n",
       "      <td>767.000000</td>\n",
       "    </tr>\n",
       "    <tr>\n",
       "      <th>mean</th>\n",
       "      <td>5.79322</td>\n",
       "      <td>12.568449</td>\n",
       "      <td>4.885267</td>\n",
       "    </tr>\n",
       "    <tr>\n",
       "      <th>std</th>\n",
       "      <td>3.220643</td>\n",
       "      <td>7.223055</td>\n",
       "      <td>0.318907</td>\n",
       "    </tr>\n",
       "    <tr>\n",
       "      <th>min</th>\n",
       "      <td>0.0</td>\n",
       "      <td>1.0</td>\n",
       "      <td>4.000000</td>\n",
       "    </tr>\n",
       "    <tr>\n",
       "      <th>25%</th>\n",
       "      <td>5.05</td>\n",
       "      <td>6.0</td>\n",
       "      <td>5.000000</td>\n",
       "    </tr>\n",
       "    <tr>\n",
       "      <th>50%</th>\n",
       "      <td>7.1</td>\n",
       "      <td>12.0</td>\n",
       "      <td>5.000000</td>\n",
       "    </tr>\n",
       "    <tr>\n",
       "      <th>75%</th>\n",
       "      <td>8.0</td>\n",
       "      <td>19.0</td>\n",
       "      <td>5.000000</td>\n",
       "    </tr>\n",
       "    <tr>\n",
       "      <th>max</th>\n",
       "      <td>10.0</td>\n",
       "      <td>25.0</td>\n",
       "      <td>5.000000</td>\n",
       "    </tr>\n",
       "  </tbody>\n",
       "</table>\n",
       "</div>"
      ],
      "text/plain": [
       "         Rating  NumReviews  Facilities\n",
       "count     767.0       767.0  767.000000\n",
       "mean    5.79322   12.568449    4.885267\n",
       "std    3.220643    7.223055    0.318907\n",
       "min         0.0         1.0    4.000000\n",
       "25%        5.05         6.0    5.000000\n",
       "50%         7.1        12.0    5.000000\n",
       "75%         8.0        19.0    5.000000\n",
       "max        10.0        25.0    5.000000"
      ]
     },
     "execution_count": 23,
     "metadata": {},
     "output_type": "execute_result"
    }
   ],
   "source": [
    "testData.describe()"
   ]
  },
  {
   "cell_type": "markdown",
   "id": "773ae17c",
   "metadata": {
    "papermill": {
     "duration": 0.02113,
     "end_time": "2023-05-22T09:14:17.266722",
     "exception": false,
     "start_time": "2023-05-22T09:14:17.245592",
     "status": "completed"
    },
    "tags": []
   },
   "source": [
    "# One Hot Encoding\n",
    "### One Hot Encoding = mengubah data kategori menjadi kolom baru yang berisi nilai biner sesuai dengan data yang ada. Hal ini dilakukan agar model dapat lebih baik mempelajari suatu dataset"
   ]
  },
  {
   "cell_type": "code",
   "execution_count": 24,
   "id": "9f66316a",
   "metadata": {
    "execution": {
     "iopub.execute_input": "2023-05-22T09:14:17.312113Z",
     "iopub.status.busy": "2023-05-22T09:14:17.311082Z",
     "iopub.status.idle": "2023-05-22T09:14:17.321546Z",
     "shell.execute_reply": "2023-05-22T09:14:17.320709Z"
    },
    "papermill": {
     "duration": 0.035596,
     "end_time": "2023-05-22T09:14:17.323792",
     "exception": false,
     "start_time": "2023-05-22T09:14:17.288196",
     "status": "completed"
    },
    "tags": []
   },
   "outputs": [],
   "source": [
    "X = pd.get_dummies(X, columns=['Location'])\n",
    "testData = pd.get_dummies(testData, columns=['Location'])"
   ]
  },
  {
   "cell_type": "markdown",
   "id": "73ec886b",
   "metadata": {
    "papermill": {
     "duration": 0.021306,
     "end_time": "2023-05-22T09:14:17.366639",
     "exception": false,
     "start_time": "2023-05-22T09:14:17.345333",
     "status": "completed"
    },
    "tags": []
   },
   "source": [
    "# Final Check"
   ]
  },
  {
   "cell_type": "code",
   "execution_count": 25,
   "id": "d746612a",
   "metadata": {
    "execution": {
     "iopub.execute_input": "2023-05-22T09:14:17.411898Z",
     "iopub.status.busy": "2023-05-22T09:14:17.411016Z",
     "iopub.status.idle": "2023-05-22T09:14:17.430114Z",
     "shell.execute_reply": "2023-05-22T09:14:17.429311Z"
    },
    "papermill": {
     "duration": 0.044141,
     "end_time": "2023-05-22T09:14:17.432268",
     "exception": false,
     "start_time": "2023-05-22T09:14:17.388127",
     "status": "completed"
    },
    "tags": []
   },
   "outputs": [
    {
     "data": {
      "text/html": [
       "<div>\n",
       "<style scoped>\n",
       "    .dataframe tbody tr th:only-of-type {\n",
       "        vertical-align: middle;\n",
       "    }\n",
       "\n",
       "    .dataframe tbody tr th {\n",
       "        vertical-align: top;\n",
       "    }\n",
       "\n",
       "    .dataframe thead th {\n",
       "        text-align: right;\n",
       "    }\n",
       "</style>\n",
       "<table border=\"1\" class=\"dataframe\">\n",
       "  <thead>\n",
       "    <tr style=\"text-align: right;\">\n",
       "      <th></th>\n",
       "      <th>Rating</th>\n",
       "      <th>NumReviews</th>\n",
       "      <th>Facilities</th>\n",
       "      <th>Location_Andeman</th>\n",
       "      <th>Location_Hallerson</th>\n",
       "      <th>Location_Machlessvile</th>\n",
       "      <th>Location_Stokol</th>\n",
       "      <th>Location_Uberlandia</th>\n",
       "      <th>Location_Ubisville</th>\n",
       "      <th>Location_Wanderland</th>\n",
       "      <th>Location_Willsmian</th>\n",
       "    </tr>\n",
       "  </thead>\n",
       "  <tbody>\n",
       "    <tr>\n",
       "      <th>0</th>\n",
       "      <td>7.8</td>\n",
       "      <td>10</td>\n",
       "      <td>3</td>\n",
       "      <td>0</td>\n",
       "      <td>0</td>\n",
       "      <td>0</td>\n",
       "      <td>1</td>\n",
       "      <td>0</td>\n",
       "      <td>0</td>\n",
       "      <td>0</td>\n",
       "      <td>0</td>\n",
       "    </tr>\n",
       "    <tr>\n",
       "      <th>1</th>\n",
       "      <td>5.6</td>\n",
       "      <td>4</td>\n",
       "      <td>3</td>\n",
       "      <td>0</td>\n",
       "      <td>0</td>\n",
       "      <td>1</td>\n",
       "      <td>0</td>\n",
       "      <td>0</td>\n",
       "      <td>0</td>\n",
       "      <td>0</td>\n",
       "      <td>0</td>\n",
       "    </tr>\n",
       "    <tr>\n",
       "      <th>2</th>\n",
       "      <td>7.2</td>\n",
       "      <td>38</td>\n",
       "      <td>4</td>\n",
       "      <td>0</td>\n",
       "      <td>0</td>\n",
       "      <td>0</td>\n",
       "      <td>0</td>\n",
       "      <td>0</td>\n",
       "      <td>0</td>\n",
       "      <td>1</td>\n",
       "      <td>0</td>\n",
       "    </tr>\n",
       "    <tr>\n",
       "      <th>3</th>\n",
       "      <td>7.3</td>\n",
       "      <td>6</td>\n",
       "      <td>2</td>\n",
       "      <td>0</td>\n",
       "      <td>0</td>\n",
       "      <td>0</td>\n",
       "      <td>0</td>\n",
       "      <td>1</td>\n",
       "      <td>0</td>\n",
       "      <td>0</td>\n",
       "      <td>0</td>\n",
       "    </tr>\n",
       "    <tr>\n",
       "      <th>4</th>\n",
       "      <td>7.2</td>\n",
       "      <td>30</td>\n",
       "      <td>2</td>\n",
       "      <td>0</td>\n",
       "      <td>0</td>\n",
       "      <td>0</td>\n",
       "      <td>1</td>\n",
       "      <td>0</td>\n",
       "      <td>0</td>\n",
       "      <td>0</td>\n",
       "      <td>0</td>\n",
       "    </tr>\n",
       "    <tr>\n",
       "      <th>...</th>\n",
       "      <td>...</td>\n",
       "      <td>...</td>\n",
       "      <td>...</td>\n",
       "      <td>...</td>\n",
       "      <td>...</td>\n",
       "      <td>...</td>\n",
       "      <td>...</td>\n",
       "      <td>...</td>\n",
       "      <td>...</td>\n",
       "      <td>...</td>\n",
       "      <td>...</td>\n",
       "    </tr>\n",
       "    <tr>\n",
       "      <th>3061</th>\n",
       "      <td>0.0</td>\n",
       "      <td>3</td>\n",
       "      <td>2</td>\n",
       "      <td>1</td>\n",
       "      <td>0</td>\n",
       "      <td>0</td>\n",
       "      <td>0</td>\n",
       "      <td>0</td>\n",
       "      <td>0</td>\n",
       "      <td>0</td>\n",
       "      <td>0</td>\n",
       "    </tr>\n",
       "    <tr>\n",
       "      <th>3062</th>\n",
       "      <td>8.1</td>\n",
       "      <td>4</td>\n",
       "      <td>3</td>\n",
       "      <td>0</td>\n",
       "      <td>0</td>\n",
       "      <td>0</td>\n",
       "      <td>0</td>\n",
       "      <td>1</td>\n",
       "      <td>0</td>\n",
       "      <td>0</td>\n",
       "      <td>0</td>\n",
       "    </tr>\n",
       "    <tr>\n",
       "      <th>3063</th>\n",
       "      <td>6.7</td>\n",
       "      <td>10</td>\n",
       "      <td>3</td>\n",
       "      <td>0</td>\n",
       "      <td>0</td>\n",
       "      <td>0</td>\n",
       "      <td>0</td>\n",
       "      <td>0</td>\n",
       "      <td>0</td>\n",
       "      <td>0</td>\n",
       "      <td>1</td>\n",
       "    </tr>\n",
       "    <tr>\n",
       "      <th>3064</th>\n",
       "      <td>0.0</td>\n",
       "      <td>10</td>\n",
       "      <td>1</td>\n",
       "      <td>0</td>\n",
       "      <td>1</td>\n",
       "      <td>0</td>\n",
       "      <td>0</td>\n",
       "      <td>0</td>\n",
       "      <td>0</td>\n",
       "      <td>0</td>\n",
       "      <td>0</td>\n",
       "    </tr>\n",
       "    <tr>\n",
       "      <th>3065</th>\n",
       "      <td>7.8</td>\n",
       "      <td>26</td>\n",
       "      <td>2</td>\n",
       "      <td>1</td>\n",
       "      <td>0</td>\n",
       "      <td>0</td>\n",
       "      <td>0</td>\n",
       "      <td>0</td>\n",
       "      <td>0</td>\n",
       "      <td>0</td>\n",
       "      <td>0</td>\n",
       "    </tr>\n",
       "  </tbody>\n",
       "</table>\n",
       "<p>2767 rows × 11 columns</p>\n",
       "</div>"
      ],
      "text/plain": [
       "      Rating  NumReviews  Facilities  Location_Andeman  Location_Hallerson  \\\n",
       "0        7.8          10           3                 0                   0   \n",
       "1        5.6           4           3                 0                   0   \n",
       "2        7.2          38           4                 0                   0   \n",
       "3        7.3           6           2                 0                   0   \n",
       "4        7.2          30           2                 0                   0   \n",
       "...      ...         ...         ...               ...                 ...   \n",
       "3061     0.0           3           2                 1                   0   \n",
       "3062     8.1           4           3                 0                   0   \n",
       "3063     6.7          10           3                 0                   0   \n",
       "3064     0.0          10           1                 0                   1   \n",
       "3065     7.8          26           2                 1                   0   \n",
       "\n",
       "      Location_Machlessvile  Location_Stokol  Location_Uberlandia  \\\n",
       "0                         0                1                    0   \n",
       "1                         1                0                    0   \n",
       "2                         0                0                    0   \n",
       "3                         0                0                    1   \n",
       "4                         0                1                    0   \n",
       "...                     ...              ...                  ...   \n",
       "3061                      0                0                    0   \n",
       "3062                      0                0                    1   \n",
       "3063                      0                0                    0   \n",
       "3064                      0                0                    0   \n",
       "3065                      0                0                    0   \n",
       "\n",
       "      Location_Ubisville  Location_Wanderland  Location_Willsmian  \n",
       "0                      0                    0                   0  \n",
       "1                      0                    0                   0  \n",
       "2                      0                    1                   0  \n",
       "3                      0                    0                   0  \n",
       "4                      0                    0                   0  \n",
       "...                  ...                  ...                 ...  \n",
       "3061                   0                    0                   0  \n",
       "3062                   0                    0                   0  \n",
       "3063                   0                    0                   1  \n",
       "3064                   0                    0                   0  \n",
       "3065                   0                    0                   0  \n",
       "\n",
       "[2767 rows x 11 columns]"
      ]
     },
     "execution_count": 25,
     "metadata": {},
     "output_type": "execute_result"
    }
   ],
   "source": [
    "X"
   ]
  },
  {
   "cell_type": "code",
   "execution_count": 26,
   "id": "60ea257b",
   "metadata": {
    "execution": {
     "iopub.execute_input": "2023-05-22T09:14:17.480208Z",
     "iopub.status.busy": "2023-05-22T09:14:17.479086Z",
     "iopub.status.idle": "2023-05-22T09:14:17.498250Z",
     "shell.execute_reply": "2023-05-22T09:14:17.497149Z"
    },
    "papermill": {
     "duration": 0.045488,
     "end_time": "2023-05-22T09:14:17.500656",
     "exception": false,
     "start_time": "2023-05-22T09:14:17.455168",
     "status": "completed"
    },
    "tags": []
   },
   "outputs": [
    {
     "data": {
      "text/html": [
       "<div>\n",
       "<style scoped>\n",
       "    .dataframe tbody tr th:only-of-type {\n",
       "        vertical-align: middle;\n",
       "    }\n",
       "\n",
       "    .dataframe tbody tr th {\n",
       "        vertical-align: top;\n",
       "    }\n",
       "\n",
       "    .dataframe thead th {\n",
       "        text-align: right;\n",
       "    }\n",
       "</style>\n",
       "<table border=\"1\" class=\"dataframe\">\n",
       "  <thead>\n",
       "    <tr style=\"text-align: right;\">\n",
       "      <th></th>\n",
       "      <th>Rating</th>\n",
       "      <th>NumReviews</th>\n",
       "      <th>Facilities</th>\n",
       "      <th>Location_Andeman</th>\n",
       "      <th>Location_Hallerson</th>\n",
       "      <th>Location_Machlessvile</th>\n",
       "      <th>Location_Stokol</th>\n",
       "      <th>Location_Uberlandia</th>\n",
       "      <th>Location_Ubisville</th>\n",
       "      <th>Location_Wanderland</th>\n",
       "      <th>Location_Willsmian</th>\n",
       "    </tr>\n",
       "  </thead>\n",
       "  <tbody>\n",
       "    <tr>\n",
       "      <th>0</th>\n",
       "      <td>8.0</td>\n",
       "      <td>1</td>\n",
       "      <td>5</td>\n",
       "      <td>0</td>\n",
       "      <td>0</td>\n",
       "      <td>0</td>\n",
       "      <td>1</td>\n",
       "      <td>0</td>\n",
       "      <td>0</td>\n",
       "      <td>0</td>\n",
       "      <td>0</td>\n",
       "    </tr>\n",
       "    <tr>\n",
       "      <th>1</th>\n",
       "      <td>7.4</td>\n",
       "      <td>22</td>\n",
       "      <td>5</td>\n",
       "      <td>0</td>\n",
       "      <td>1</td>\n",
       "      <td>0</td>\n",
       "      <td>0</td>\n",
       "      <td>0</td>\n",
       "      <td>0</td>\n",
       "      <td>0</td>\n",
       "      <td>0</td>\n",
       "    </tr>\n",
       "    <tr>\n",
       "      <th>2</th>\n",
       "      <td>0.0</td>\n",
       "      <td>4</td>\n",
       "      <td>4</td>\n",
       "      <td>0</td>\n",
       "      <td>1</td>\n",
       "      <td>0</td>\n",
       "      <td>0</td>\n",
       "      <td>0</td>\n",
       "      <td>0</td>\n",
       "      <td>0</td>\n",
       "      <td>0</td>\n",
       "    </tr>\n",
       "    <tr>\n",
       "      <th>3</th>\n",
       "      <td>6.8</td>\n",
       "      <td>13</td>\n",
       "      <td>5</td>\n",
       "      <td>1</td>\n",
       "      <td>0</td>\n",
       "      <td>0</td>\n",
       "      <td>0</td>\n",
       "      <td>0</td>\n",
       "      <td>0</td>\n",
       "      <td>0</td>\n",
       "      <td>0</td>\n",
       "    </tr>\n",
       "    <tr>\n",
       "      <th>4</th>\n",
       "      <td>0.0</td>\n",
       "      <td>9</td>\n",
       "      <td>5</td>\n",
       "      <td>0</td>\n",
       "      <td>1</td>\n",
       "      <td>0</td>\n",
       "      <td>0</td>\n",
       "      <td>0</td>\n",
       "      <td>0</td>\n",
       "      <td>0</td>\n",
       "      <td>0</td>\n",
       "    </tr>\n",
       "    <tr>\n",
       "      <th>...</th>\n",
       "      <td>...</td>\n",
       "      <td>...</td>\n",
       "      <td>...</td>\n",
       "      <td>...</td>\n",
       "      <td>...</td>\n",
       "      <td>...</td>\n",
       "      <td>...</td>\n",
       "      <td>...</td>\n",
       "      <td>...</td>\n",
       "      <td>...</td>\n",
       "      <td>...</td>\n",
       "    </tr>\n",
       "    <tr>\n",
       "      <th>762</th>\n",
       "      <td>8.1</td>\n",
       "      <td>9</td>\n",
       "      <td>4</td>\n",
       "      <td>1</td>\n",
       "      <td>0</td>\n",
       "      <td>0</td>\n",
       "      <td>0</td>\n",
       "      <td>0</td>\n",
       "      <td>0</td>\n",
       "      <td>0</td>\n",
       "      <td>0</td>\n",
       "    </tr>\n",
       "    <tr>\n",
       "      <th>763</th>\n",
       "      <td>8.0</td>\n",
       "      <td>4</td>\n",
       "      <td>5</td>\n",
       "      <td>0</td>\n",
       "      <td>0</td>\n",
       "      <td>0</td>\n",
       "      <td>0</td>\n",
       "      <td>0</td>\n",
       "      <td>0</td>\n",
       "      <td>1</td>\n",
       "      <td>0</td>\n",
       "    </tr>\n",
       "    <tr>\n",
       "      <th>764</th>\n",
       "      <td>7.4</td>\n",
       "      <td>19</td>\n",
       "      <td>5</td>\n",
       "      <td>1</td>\n",
       "      <td>0</td>\n",
       "      <td>0</td>\n",
       "      <td>0</td>\n",
       "      <td>0</td>\n",
       "      <td>0</td>\n",
       "      <td>0</td>\n",
       "      <td>0</td>\n",
       "    </tr>\n",
       "    <tr>\n",
       "      <th>765</th>\n",
       "      <td>9.0</td>\n",
       "      <td>17</td>\n",
       "      <td>5</td>\n",
       "      <td>0</td>\n",
       "      <td>1</td>\n",
       "      <td>0</td>\n",
       "      <td>0</td>\n",
       "      <td>0</td>\n",
       "      <td>0</td>\n",
       "      <td>0</td>\n",
       "      <td>0</td>\n",
       "    </tr>\n",
       "    <tr>\n",
       "      <th>766</th>\n",
       "      <td>6.9</td>\n",
       "      <td>21</td>\n",
       "      <td>5</td>\n",
       "      <td>0</td>\n",
       "      <td>0</td>\n",
       "      <td>0</td>\n",
       "      <td>0</td>\n",
       "      <td>1</td>\n",
       "      <td>0</td>\n",
       "      <td>0</td>\n",
       "      <td>0</td>\n",
       "    </tr>\n",
       "  </tbody>\n",
       "</table>\n",
       "<p>767 rows × 11 columns</p>\n",
       "</div>"
      ],
      "text/plain": [
       "     Rating  NumReviews  Facilities  Location_Andeman  Location_Hallerson  \\\n",
       "0       8.0           1           5                 0                   0   \n",
       "1       7.4          22           5                 0                   1   \n",
       "2       0.0           4           4                 0                   1   \n",
       "3       6.8          13           5                 1                   0   \n",
       "4       0.0           9           5                 0                   1   \n",
       "..      ...         ...         ...               ...                 ...   \n",
       "762     8.1           9           4                 1                   0   \n",
       "763     8.0           4           5                 0                   0   \n",
       "764     7.4          19           5                 1                   0   \n",
       "765     9.0          17           5                 0                   1   \n",
       "766     6.9          21           5                 0                   0   \n",
       "\n",
       "     Location_Machlessvile  Location_Stokol  Location_Uberlandia  \\\n",
       "0                        0                1                    0   \n",
       "1                        0                0                    0   \n",
       "2                        0                0                    0   \n",
       "3                        0                0                    0   \n",
       "4                        0                0                    0   \n",
       "..                     ...              ...                  ...   \n",
       "762                      0                0                    0   \n",
       "763                      0                0                    0   \n",
       "764                      0                0                    0   \n",
       "765                      0                0                    0   \n",
       "766                      0                0                    1   \n",
       "\n",
       "     Location_Ubisville  Location_Wanderland  Location_Willsmian  \n",
       "0                     0                    0                   0  \n",
       "1                     0                    0                   0  \n",
       "2                     0                    0                   0  \n",
       "3                     0                    0                   0  \n",
       "4                     0                    0                   0  \n",
       "..                  ...                  ...                 ...  \n",
       "762                   0                    0                   0  \n",
       "763                   0                    1                   0  \n",
       "764                   0                    0                   0  \n",
       "765                   0                    0                   0  \n",
       "766                   0                    0                   0  \n",
       "\n",
       "[767 rows x 11 columns]"
      ]
     },
     "execution_count": 26,
     "metadata": {},
     "output_type": "execute_result"
    }
   ],
   "source": [
    "testData"
   ]
  },
  {
   "cell_type": "code",
   "execution_count": 27,
   "id": "9ad46d1e",
   "metadata": {
    "execution": {
     "iopub.execute_input": "2023-05-22T09:14:17.548545Z",
     "iopub.status.busy": "2023-05-22T09:14:17.548134Z",
     "iopub.status.idle": "2023-05-22T09:14:17.559135Z",
     "shell.execute_reply": "2023-05-22T09:14:17.558046Z"
    },
    "papermill": {
     "duration": 0.038049,
     "end_time": "2023-05-22T09:14:17.561434",
     "exception": false,
     "start_time": "2023-05-22T09:14:17.523385",
     "status": "completed"
    },
    "tags": []
   },
   "outputs": [
    {
     "data": {
      "text/html": [
       "<div>\n",
       "<style scoped>\n",
       "    .dataframe tbody tr th:only-of-type {\n",
       "        vertical-align: middle;\n",
       "    }\n",
       "\n",
       "    .dataframe tbody tr th {\n",
       "        vertical-align: top;\n",
       "    }\n",
       "\n",
       "    .dataframe thead th {\n",
       "        text-align: right;\n",
       "    }\n",
       "</style>\n",
       "<table border=\"1\" class=\"dataframe\">\n",
       "  <thead>\n",
       "    <tr style=\"text-align: right;\">\n",
       "      <th></th>\n",
       "      <th>Price</th>\n",
       "    </tr>\n",
       "  </thead>\n",
       "  <tbody>\n",
       "    <tr>\n",
       "      <th>0</th>\n",
       "      <td>13500</td>\n",
       "    </tr>\n",
       "    <tr>\n",
       "      <th>1</th>\n",
       "      <td>13000</td>\n",
       "    </tr>\n",
       "    <tr>\n",
       "      <th>2</th>\n",
       "      <td>19000</td>\n",
       "    </tr>\n",
       "    <tr>\n",
       "      <th>3</th>\n",
       "      <td>6000</td>\n",
       "    </tr>\n",
       "    <tr>\n",
       "      <th>4</th>\n",
       "      <td>20000</td>\n",
       "    </tr>\n",
       "    <tr>\n",
       "      <th>...</th>\n",
       "      <td>...</td>\n",
       "    </tr>\n",
       "    <tr>\n",
       "      <th>3061</th>\n",
       "      <td>31625</td>\n",
       "    </tr>\n",
       "    <tr>\n",
       "      <th>3062</th>\n",
       "      <td>30500</td>\n",
       "    </tr>\n",
       "    <tr>\n",
       "      <th>3063</th>\n",
       "      <td>14000</td>\n",
       "    </tr>\n",
       "    <tr>\n",
       "      <th>3064</th>\n",
       "      <td>8500</td>\n",
       "    </tr>\n",
       "    <tr>\n",
       "      <th>3065</th>\n",
       "      <td>19000</td>\n",
       "    </tr>\n",
       "  </tbody>\n",
       "</table>\n",
       "<p>2767 rows × 1 columns</p>\n",
       "</div>"
      ],
      "text/plain": [
       "      Price\n",
       "0     13500\n",
       "1     13000\n",
       "2     19000\n",
       "3      6000\n",
       "4     20000\n",
       "...     ...\n",
       "3061  31625\n",
       "3062  30500\n",
       "3063  14000\n",
       "3064   8500\n",
       "3065  19000\n",
       "\n",
       "[2767 rows x 1 columns]"
      ]
     },
     "execution_count": 27,
     "metadata": {},
     "output_type": "execute_result"
    }
   ],
   "source": [
    "y"
   ]
  },
  {
   "cell_type": "markdown",
   "id": "ea204102",
   "metadata": {
    "papermill": {
     "duration": 0.022674,
     "end_time": "2023-05-22T09:14:17.607041",
     "exception": false,
     "start_time": "2023-05-22T09:14:17.584367",
     "status": "completed"
    },
    "tags": []
   },
   "source": [
    "# Split Dataset into Train and Test Set"
   ]
  },
  {
   "cell_type": "code",
   "execution_count": 28,
   "id": "71286ab7",
   "metadata": {
    "execution": {
     "iopub.execute_input": "2023-05-22T09:14:17.655152Z",
     "iopub.status.busy": "2023-05-22T09:14:17.654730Z",
     "iopub.status.idle": "2023-05-22T09:14:17.662931Z",
     "shell.execute_reply": "2023-05-22T09:14:17.662084Z"
    },
    "papermill": {
     "duration": 0.035137,
     "end_time": "2023-05-22T09:14:17.665080",
     "exception": false,
     "start_time": "2023-05-22T09:14:17.629943",
     "status": "completed"
    },
    "tags": []
   },
   "outputs": [],
   "source": [
    "X_train, X_test, y_train, y_test = train_test_split(X, y, test_size=0.2, random_state=42)"
   ]
  },
  {
   "cell_type": "markdown",
   "id": "8ed5fed4",
   "metadata": {
    "papermill": {
     "duration": 0.022612,
     "end_time": "2023-05-22T09:14:17.710588",
     "exception": false,
     "start_time": "2023-05-22T09:14:17.687976",
     "status": "completed"
    },
    "tags": []
   },
   "source": [
    "# Model (Support Vector Regression)"
   ]
  },
  {
   "cell_type": "code",
   "execution_count": 29,
   "id": "1c783561",
   "metadata": {
    "execution": {
     "iopub.execute_input": "2023-05-22T09:14:17.758843Z",
     "iopub.status.busy": "2023-05-22T09:14:17.758067Z",
     "iopub.status.idle": "2023-05-22T09:14:18.234184Z",
     "shell.execute_reply": "2023-05-22T09:14:18.233120Z"
    },
    "papermill": {
     "duration": 0.503047,
     "end_time": "2023-05-22T09:14:18.236580",
     "exception": false,
     "start_time": "2023-05-22T09:14:17.733533",
     "status": "completed"
    },
    "tags": []
   },
   "outputs": [
    {
     "data": {
      "text/html": [
       "<style>#sk-container-id-1 {color: black;background-color: white;}#sk-container-id-1 pre{padding: 0;}#sk-container-id-1 div.sk-toggleable {background-color: white;}#sk-container-id-1 label.sk-toggleable__label {cursor: pointer;display: block;width: 100%;margin-bottom: 0;padding: 0.3em;box-sizing: border-box;text-align: center;}#sk-container-id-1 label.sk-toggleable__label-arrow:before {content: \"▸\";float: left;margin-right: 0.25em;color: #696969;}#sk-container-id-1 label.sk-toggleable__label-arrow:hover:before {color: black;}#sk-container-id-1 div.sk-estimator:hover label.sk-toggleable__label-arrow:before {color: black;}#sk-container-id-1 div.sk-toggleable__content {max-height: 0;max-width: 0;overflow: hidden;text-align: left;background-color: #f0f8ff;}#sk-container-id-1 div.sk-toggleable__content pre {margin: 0.2em;color: black;border-radius: 0.25em;background-color: #f0f8ff;}#sk-container-id-1 input.sk-toggleable__control:checked~div.sk-toggleable__content {max-height: 200px;max-width: 100%;overflow: auto;}#sk-container-id-1 input.sk-toggleable__control:checked~label.sk-toggleable__label-arrow:before {content: \"▾\";}#sk-container-id-1 div.sk-estimator input.sk-toggleable__control:checked~label.sk-toggleable__label {background-color: #d4ebff;}#sk-container-id-1 div.sk-label input.sk-toggleable__control:checked~label.sk-toggleable__label {background-color: #d4ebff;}#sk-container-id-1 input.sk-hidden--visually {border: 0;clip: rect(1px 1px 1px 1px);clip: rect(1px, 1px, 1px, 1px);height: 1px;margin: -1px;overflow: hidden;padding: 0;position: absolute;width: 1px;}#sk-container-id-1 div.sk-estimator {font-family: monospace;background-color: #f0f8ff;border: 1px dotted black;border-radius: 0.25em;box-sizing: border-box;margin-bottom: 0.5em;}#sk-container-id-1 div.sk-estimator:hover {background-color: #d4ebff;}#sk-container-id-1 div.sk-parallel-item::after {content: \"\";width: 100%;border-bottom: 1px solid gray;flex-grow: 1;}#sk-container-id-1 div.sk-label:hover label.sk-toggleable__label {background-color: #d4ebff;}#sk-container-id-1 div.sk-serial::before {content: \"\";position: absolute;border-left: 1px solid gray;box-sizing: border-box;top: 0;bottom: 0;left: 50%;z-index: 0;}#sk-container-id-1 div.sk-serial {display: flex;flex-direction: column;align-items: center;background-color: white;padding-right: 0.2em;padding-left: 0.2em;position: relative;}#sk-container-id-1 div.sk-item {position: relative;z-index: 1;}#sk-container-id-1 div.sk-parallel {display: flex;align-items: stretch;justify-content: center;background-color: white;position: relative;}#sk-container-id-1 div.sk-item::before, #sk-container-id-1 div.sk-parallel-item::before {content: \"\";position: absolute;border-left: 1px solid gray;box-sizing: border-box;top: 0;bottom: 0;left: 50%;z-index: -1;}#sk-container-id-1 div.sk-parallel-item {display: flex;flex-direction: column;z-index: 1;position: relative;background-color: white;}#sk-container-id-1 div.sk-parallel-item:first-child::after {align-self: flex-end;width: 50%;}#sk-container-id-1 div.sk-parallel-item:last-child::after {align-self: flex-start;width: 50%;}#sk-container-id-1 div.sk-parallel-item:only-child::after {width: 0;}#sk-container-id-1 div.sk-dashed-wrapped {border: 1px dashed gray;margin: 0 0.4em 0.5em 0.4em;box-sizing: border-box;padding-bottom: 0.4em;background-color: white;}#sk-container-id-1 div.sk-label label {font-family: monospace;font-weight: bold;display: inline-block;line-height: 1.2em;}#sk-container-id-1 div.sk-label-container {text-align: center;}#sk-container-id-1 div.sk-container {/* jupyter's `normalize.less` sets `[hidden] { display: none; }` but bootstrap.min.css set `[hidden] { display: none !important; }` so we also need the `!important` here to be able to override the default hidden behavior on the sphinx rendered scikit-learn.org. See: https://github.com/scikit-learn/scikit-learn/issues/21755 */display: inline-block !important;position: relative;}#sk-container-id-1 div.sk-text-repr-fallback {display: none;}</style><div id=\"sk-container-id-1\" class=\"sk-top-container\"><div class=\"sk-text-repr-fallback\"><pre>SVR(kernel=&#x27;linear&#x27;)</pre><b>In a Jupyter environment, please rerun this cell to show the HTML representation or trust the notebook. <br />On GitHub, the HTML representation is unable to render, please try loading this page with nbviewer.org.</b></div><div class=\"sk-container\" hidden><div class=\"sk-item\"><div class=\"sk-estimator sk-toggleable\"><input class=\"sk-toggleable__control sk-hidden--visually\" id=\"sk-estimator-id-1\" type=\"checkbox\" checked><label for=\"sk-estimator-id-1\" class=\"sk-toggleable__label sk-toggleable__label-arrow\">SVR</label><div class=\"sk-toggleable__content\"><pre>SVR(kernel=&#x27;linear&#x27;)</pre></div></div></div></div></div>"
      ],
      "text/plain": [
       "SVR(kernel='linear')"
      ]
     },
     "execution_count": 29,
     "metadata": {},
     "output_type": "execute_result"
    }
   ],
   "source": [
    "from sklearn.svm import SVR\n",
    "model = SVR(kernel = 'linear')\n",
    "model.fit(X, y)"
   ]
  },
  {
   "cell_type": "code",
   "execution_count": 30,
   "id": "d6a0dbba",
   "metadata": {
    "execution": {
     "iopub.execute_input": "2023-05-22T09:14:18.285604Z",
     "iopub.status.busy": "2023-05-22T09:14:18.284724Z",
     "iopub.status.idle": "2023-05-22T09:14:18.330246Z",
     "shell.execute_reply": "2023-05-22T09:14:18.329083Z"
    },
    "papermill": {
     "duration": 0.072829,
     "end_time": "2023-05-22T09:14:18.332794",
     "exception": false,
     "start_time": "2023-05-22T09:14:18.259965",
     "status": "completed"
    },
    "tags": []
   },
   "outputs": [
    {
     "name": "stdout",
     "output_type": "stream",
     "text": [
      "Mean Absolute Error: 6914.973401583819\n"
     ]
    }
   ],
   "source": [
    "y_pred = model.predict(X_test)\n",
    "\n",
    "# evaluasi model menggunakan mean squared error\n",
    "mae = mean_absolute_error(y_test, y_pred)\n",
    "print('Mean Absolute Error:', mae)"
   ]
  },
  {
   "cell_type": "markdown",
   "id": "4ebbfac4",
   "metadata": {
    "papermill": {
     "duration": 0.024115,
     "end_time": "2023-05-22T09:14:18.381169",
     "exception": false,
     "start_time": "2023-05-22T09:14:18.357054",
     "status": "completed"
    },
    "tags": []
   },
   "source": [
    "# Submission"
   ]
  },
  {
   "cell_type": "code",
   "execution_count": 31,
   "id": "67853dec",
   "metadata": {
    "execution": {
     "iopub.execute_input": "2023-05-22T09:14:18.432094Z",
     "iopub.status.busy": "2023-05-22T09:14:18.430761Z",
     "iopub.status.idle": "2023-05-22T09:14:18.487979Z",
     "shell.execute_reply": "2023-05-22T09:14:18.486952Z"
    },
    "papermill": {
     "duration": 0.084956,
     "end_time": "2023-05-22T09:14:18.490512",
     "exception": false,
     "start_time": "2023-05-22T09:14:18.405556",
     "status": "completed"
    },
    "tags": []
   },
   "outputs": [],
   "source": [
    "submission = model.predict(testData)\n",
    "submission_df = pd.DataFrame(submission)"
   ]
  },
  {
   "cell_type": "code",
   "execution_count": 32,
   "id": "3b484270",
   "metadata": {
    "execution": {
     "iopub.execute_input": "2023-05-22T09:14:18.541498Z",
     "iopub.status.busy": "2023-05-22T09:14:18.541072Z",
     "iopub.status.idle": "2023-05-22T09:14:18.546761Z",
     "shell.execute_reply": "2023-05-22T09:14:18.545783Z"
    },
    "papermill": {
     "duration": 0.034349,
     "end_time": "2023-05-22T09:14:18.549055",
     "exception": false,
     "start_time": "2023-05-22T09:14:18.514706",
     "status": "completed"
    },
    "tags": []
   },
   "outputs": [],
   "source": [
    "submission_format['Price'] = submission_df"
   ]
  },
  {
   "cell_type": "code",
   "execution_count": 33,
   "id": "e34692ac",
   "metadata": {
    "execution": {
     "iopub.execute_input": "2023-05-22T09:14:18.598172Z",
     "iopub.status.busy": "2023-05-22T09:14:18.597474Z",
     "iopub.status.idle": "2023-05-22T09:14:18.608791Z",
     "shell.execute_reply": "2023-05-22T09:14:18.607954Z"
    },
    "papermill": {
     "duration": 0.038476,
     "end_time": "2023-05-22T09:14:18.610945",
     "exception": false,
     "start_time": "2023-05-22T09:14:18.572469",
     "status": "completed"
    },
    "tags": []
   },
   "outputs": [
    {
     "data": {
      "text/html": [
       "<div>\n",
       "<style scoped>\n",
       "    .dataframe tbody tr th:only-of-type {\n",
       "        vertical-align: middle;\n",
       "    }\n",
       "\n",
       "    .dataframe tbody tr th {\n",
       "        vertical-align: top;\n",
       "    }\n",
       "\n",
       "    .dataframe thead th {\n",
       "        text-align: right;\n",
       "    }\n",
       "</style>\n",
       "<table border=\"1\" class=\"dataframe\">\n",
       "  <thead>\n",
       "    <tr style=\"text-align: right;\">\n",
       "      <th></th>\n",
       "      <th>ID</th>\n",
       "      <th>Price</th>\n",
       "    </tr>\n",
       "  </thead>\n",
       "  <tbody>\n",
       "    <tr>\n",
       "      <th>0</th>\n",
       "      <td>0</td>\n",
       "      <td>14871.362991</td>\n",
       "    </tr>\n",
       "    <tr>\n",
       "      <th>1</th>\n",
       "      <td>1</td>\n",
       "      <td>17204.588334</td>\n",
       "    </tr>\n",
       "    <tr>\n",
       "      <th>2</th>\n",
       "      <td>2</td>\n",
       "      <td>7557.528474</td>\n",
       "    </tr>\n",
       "    <tr>\n",
       "      <th>3</th>\n",
       "      <td>3</td>\n",
       "      <td>15456.628010</td>\n",
       "    </tr>\n",
       "    <tr>\n",
       "      <th>4</th>\n",
       "      <td>4</td>\n",
       "      <td>9025.842647</td>\n",
       "    </tr>\n",
       "    <tr>\n",
       "      <th>...</th>\n",
       "      <td>...</td>\n",
       "      <td>...</td>\n",
       "    </tr>\n",
       "    <tr>\n",
       "      <th>762</th>\n",
       "      <td>762</td>\n",
       "      <td>15251.158758</td>\n",
       "    </tr>\n",
       "    <tr>\n",
       "      <th>763</th>\n",
       "      <td>763</td>\n",
       "      <td>15277.884390</td>\n",
       "    </tr>\n",
       "    <tr>\n",
       "      <th>764</th>\n",
       "      <td>764</td>\n",
       "      <td>16789.980092</td>\n",
       "    </tr>\n",
       "    <tr>\n",
       "      <th>765</th>\n",
       "      <td>765</td>\n",
       "      <td>17914.545855</td>\n",
       "    </tr>\n",
       "    <tr>\n",
       "      <th>766</th>\n",
       "      <td>766</td>\n",
       "      <td>16625.489795</td>\n",
       "    </tr>\n",
       "  </tbody>\n",
       "</table>\n",
       "<p>767 rows × 2 columns</p>\n",
       "</div>"
      ],
      "text/plain": [
       "      ID         Price\n",
       "0      0  14871.362991\n",
       "1      1  17204.588334\n",
       "2      2   7557.528474\n",
       "3      3  15456.628010\n",
       "4      4   9025.842647\n",
       "..   ...           ...\n",
       "762  762  15251.158758\n",
       "763  763  15277.884390\n",
       "764  764  16789.980092\n",
       "765  765  17914.545855\n",
       "766  766  16625.489795\n",
       "\n",
       "[767 rows x 2 columns]"
      ]
     },
     "execution_count": 33,
     "metadata": {},
     "output_type": "execute_result"
    }
   ],
   "source": [
    "submission_format"
   ]
  },
  {
   "cell_type": "code",
   "execution_count": 34,
   "id": "6683d95f",
   "metadata": {
    "execution": {
     "iopub.execute_input": "2023-05-22T09:14:18.660649Z",
     "iopub.status.busy": "2023-05-22T09:14:18.659960Z",
     "iopub.status.idle": "2023-05-22T09:14:18.673063Z",
     "shell.execute_reply": "2023-05-22T09:14:18.671890Z"
    },
    "papermill": {
     "duration": 0.040921,
     "end_time": "2023-05-22T09:14:18.675438",
     "exception": false,
     "start_time": "2023-05-22T09:14:18.634517",
     "status": "completed"
    },
    "tags": []
   },
   "outputs": [],
   "source": [
    "submission_format.to_csv('submission.csv',index = False)"
   ]
  }
 ],
 "metadata": {
  "kernelspec": {
   "display_name": "Python 3",
   "language": "python",
   "name": "python3"
  },
  "language_info": {
   "codemirror_mode": {
    "name": "ipython",
    "version": 3
   },
   "file_extension": ".py",
   "mimetype": "text/x-python",
   "name": "python",
   "nbconvert_exporter": "python",
   "pygments_lexer": "ipython3",
   "version": "3.10.10"
  },
  "papermill": {
   "default_parameters": {},
   "duration": 21.38609,
   "end_time": "2023-05-22T09:14:19.721041",
   "environment_variables": {},
   "exception": null,
   "input_path": "__notebook__.ipynb",
   "output_path": "__notebook__.ipynb",
   "parameters": {},
   "start_time": "2023-05-22T09:13:58.334951",
   "version": "2.4.0"
  }
 },
 "nbformat": 4,
 "nbformat_minor": 5
}
